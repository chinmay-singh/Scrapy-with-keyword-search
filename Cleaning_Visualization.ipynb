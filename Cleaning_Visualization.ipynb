{
 "cells": [
  {
   "cell_type": "code",
   "execution_count": 1,
   "metadata": {
    "collapsed": true
   },
   "outputs": [],
   "source": [
    "import pandas as pd\n",
    "import numpy as np\n",
    "import matplotlib.pyplot as plt\n",
    "import matplotlib.dates as mdates\n",
    "import re\n",
    "from datetime import datetime\n",
    "%matplotlib inline"
   ]
  },
  {
   "cell_type": "code",
   "execution_count": 13,
   "metadata": {},
   "outputs": [
    {
     "data": {
      "text/html": [
       "<div>\n",
       "<style>\n",
       "    .dataframe thead tr:only-child th {\n",
       "        text-align: right;\n",
       "    }\n",
       "\n",
       "    .dataframe thead th {\n",
       "        text-align: left;\n",
       "    }\n",
       "\n",
       "    .dataframe tbody tr th {\n",
       "        vertical-align: top;\n",
       "    }\n",
       "</style>\n",
       "<table border=\"1\" class=\"dataframe\">\n",
       "  <thead>\n",
       "    <tr style=\"text-align: right;\">\n",
       "      <th></th>\n",
       "      <th>Date</th>\n",
       "      <th>Title</th>\n",
       "      <th>article</th>\n",
       "    </tr>\n",
       "  </thead>\n",
       "  <tbody>\n",
       "    <tr>\n",
       "      <th>0</th>\n",
       "      <td>May 22, 2001, 12:40 IST</td>\n",
       "      <td>Chinese HIV+ family seek compensation</td>\n",
       "      <td>shanghai: a father and daughter infected with ...</td>\n",
       "    </tr>\n",
       "    <tr>\n",
       "      <th>1</th>\n",
       "      <td>May 28, 2001, 15:19 IST</td>\n",
       "      <td>NACO declares HIV, AIDS epidemics</td>\n",
       "      <td>patna: with the hiv infection affecting about ...</td>\n",
       "    </tr>\n",
       "    <tr>\n",
       "      <th>2</th>\n",
       "      <td>Aug 13, 2001, 23:36 IST</td>\n",
       "      <td>Levi's contributes to  HIV/AIDS awareness</td>\n",
       "      <td>bangalore: the levi strauss foundation on mond...</td>\n",
       "    </tr>\n",
       "    <tr>\n",
       "      <th>3</th>\n",
       "      <td>Aug 7, 2001, 23:19 IST</td>\n",
       "      <td>Mehta denies HIV blood given to Jamnagar boy</td>\n",
       "      <td>gandhinagar: state health minister suresh meht...</td>\n",
       "    </tr>\n",
       "    <tr>\n",
       "      <th>4</th>\n",
       "      <td>Seema Kamdar,Aug 15, 2001, 01:23 IST</td>\n",
       "      <td>Three-in-one drug for HIV receives mixed reaction</td>\n",
       "      <td>mumbai: the launch of a capsule, a combination...</td>\n",
       "    </tr>\n",
       "  </tbody>\n",
       "</table>\n",
       "</div>"
      ],
      "text/plain": [
       "                                   Date  \\\n",
       "0               May 22, 2001, 12:40 IST   \n",
       "1               May 28, 2001, 15:19 IST   \n",
       "2               Aug 13, 2001, 23:36 IST   \n",
       "3                Aug 7, 2001, 23:19 IST   \n",
       "4  Seema Kamdar,Aug 15, 2001, 01:23 IST   \n",
       "\n",
       "                                               Title  \\\n",
       "0              Chinese HIV+ family seek compensation   \n",
       "1                  NACO declares HIV, AIDS epidemics   \n",
       "2          Levi's contributes to  HIV/AIDS awareness   \n",
       "3       Mehta denies HIV blood given to Jamnagar boy   \n",
       "4  Three-in-one drug for HIV receives mixed reaction   \n",
       "\n",
       "                                             article  \n",
       "0  shanghai: a father and daughter infected with ...  \n",
       "1  patna: with the hiv infection affecting about ...  \n",
       "2  bangalore: the levi strauss foundation on mond...  \n",
       "3  gandhinagar: state health minister suresh meht...  \n",
       "4  mumbai: the launch of a capsule, a combination...  "
      ]
     },
     "execution_count": 13,
     "metadata": {},
     "output_type": "execute_result"
    }
   ],
   "source": [
    "df = pd.read_csv('data/HIV_TOI.csv')\n",
    "df.head()"
   ]
  },
  {
   "cell_type": "code",
   "execution_count": 14,
   "metadata": {
    "collapsed": true
   },
   "outputs": [],
   "source": [
    "df.dropna(how='any', axis=0, inplace=True)\n",
    "df.reset_index(drop=True, inplace=True)"
   ]
  },
  {
   "cell_type": "code",
   "execution_count": 15,
   "metadata": {
    "collapsed": true
   },
   "outputs": [],
   "source": [
    "df['Date'] = df['Date'].apply(lambda x: re.findall(r'[a-zA-Z]{3}\\s[0-9]{1,2},\\s[0-9]{4}', x))"
   ]
  },
  {
   "cell_type": "code",
   "execution_count": 16,
   "metadata": {},
   "outputs": [
    {
     "data": {
      "text/html": [
       "<div>\n",
       "<style>\n",
       "    .dataframe thead tr:only-child th {\n",
       "        text-align: right;\n",
       "    }\n",
       "\n",
       "    .dataframe thead th {\n",
       "        text-align: left;\n",
       "    }\n",
       "\n",
       "    .dataframe tbody tr th {\n",
       "        vertical-align: top;\n",
       "    }\n",
       "</style>\n",
       "<table border=\"1\" class=\"dataframe\">\n",
       "  <thead>\n",
       "    <tr style=\"text-align: right;\">\n",
       "      <th></th>\n",
       "      <th>Date</th>\n",
       "      <th>Title</th>\n",
       "      <th>article</th>\n",
       "    </tr>\n",
       "  </thead>\n",
       "  <tbody>\n",
       "    <tr>\n",
       "      <th>0</th>\n",
       "      <td>[May 22, 2001]</td>\n",
       "      <td>Chinese HIV+ family seek compensation</td>\n",
       "      <td>shanghai: a father and daughter infected with ...</td>\n",
       "    </tr>\n",
       "    <tr>\n",
       "      <th>1</th>\n",
       "      <td>[May 28, 2001]</td>\n",
       "      <td>NACO declares HIV, AIDS epidemics</td>\n",
       "      <td>patna: with the hiv infection affecting about ...</td>\n",
       "    </tr>\n",
       "    <tr>\n",
       "      <th>2</th>\n",
       "      <td>[Aug 13, 2001]</td>\n",
       "      <td>Levi's contributes to  HIV/AIDS awareness</td>\n",
       "      <td>bangalore: the levi strauss foundation on mond...</td>\n",
       "    </tr>\n",
       "    <tr>\n",
       "      <th>3</th>\n",
       "      <td>[Aug 7, 2001]</td>\n",
       "      <td>Mehta denies HIV blood given to Jamnagar boy</td>\n",
       "      <td>gandhinagar: state health minister suresh meht...</td>\n",
       "    </tr>\n",
       "    <tr>\n",
       "      <th>4</th>\n",
       "      <td>[Aug 15, 2001]</td>\n",
       "      <td>Three-in-one drug for HIV receives mixed reaction</td>\n",
       "      <td>mumbai: the launch of a capsule, a combination...</td>\n",
       "    </tr>\n",
       "  </tbody>\n",
       "</table>\n",
       "</div>"
      ],
      "text/plain": [
       "             Date                                              Title  \\\n",
       "0  [May 22, 2001]              Chinese HIV+ family seek compensation   \n",
       "1  [May 28, 2001]                  NACO declares HIV, AIDS epidemics   \n",
       "2  [Aug 13, 2001]          Levi's contributes to  HIV/AIDS awareness   \n",
       "3   [Aug 7, 2001]       Mehta denies HIV blood given to Jamnagar boy   \n",
       "4  [Aug 15, 2001]  Three-in-one drug for HIV receives mixed reaction   \n",
       "\n",
       "                                             article  \n",
       "0  shanghai: a father and daughter infected with ...  \n",
       "1  patna: with the hiv infection affecting about ...  \n",
       "2  bangalore: the levi strauss foundation on mond...  \n",
       "3  gandhinagar: state health minister suresh meht...  \n",
       "4  mumbai: the launch of a capsule, a combination...  "
      ]
     },
     "execution_count": 16,
     "metadata": {},
     "output_type": "execute_result"
    }
   ],
   "source": [
    "df.head()"
   ]
  },
  {
   "cell_type": "code",
   "execution_count": 17,
   "metadata": {},
   "outputs": [
    {
     "data": {
      "text/plain": [
       "list"
      ]
     },
     "execution_count": 17,
     "metadata": {},
     "output_type": "execute_result"
    }
   ],
   "source": [
    "type(df['Date'][0])"
   ]
  },
  {
   "cell_type": "code",
   "execution_count": 18,
   "metadata": {},
   "outputs": [
    {
     "data": {
      "text/html": [
       "<div>\n",
       "<style>\n",
       "    .dataframe thead tr:only-child th {\n",
       "        text-align: right;\n",
       "    }\n",
       "\n",
       "    .dataframe thead th {\n",
       "        text-align: left;\n",
       "    }\n",
       "\n",
       "    .dataframe tbody tr th {\n",
       "        vertical-align: top;\n",
       "    }\n",
       "</style>\n",
       "<table border=\"1\" class=\"dataframe\">\n",
       "  <thead>\n",
       "    <tr style=\"text-align: right;\">\n",
       "      <th></th>\n",
       "      <th>Date</th>\n",
       "      <th>Title</th>\n",
       "      <th>article</th>\n",
       "    </tr>\n",
       "  </thead>\n",
       "  <tbody>\n",
       "    <tr>\n",
       "      <th>0</th>\n",
       "      <td>May 22, 2001</td>\n",
       "      <td>Chinese HIV+ family seek compensation</td>\n",
       "      <td>shanghai: a father and daughter infected with ...</td>\n",
       "    </tr>\n",
       "    <tr>\n",
       "      <th>1</th>\n",
       "      <td>May 28, 2001</td>\n",
       "      <td>NACO declares HIV, AIDS epidemics</td>\n",
       "      <td>patna: with the hiv infection affecting about ...</td>\n",
       "    </tr>\n",
       "    <tr>\n",
       "      <th>2</th>\n",
       "      <td>Aug 13, 2001</td>\n",
       "      <td>Levi's contributes to  HIV/AIDS awareness</td>\n",
       "      <td>bangalore: the levi strauss foundation on mond...</td>\n",
       "    </tr>\n",
       "    <tr>\n",
       "      <th>3</th>\n",
       "      <td>Aug 7, 2001</td>\n",
       "      <td>Mehta denies HIV blood given to Jamnagar boy</td>\n",
       "      <td>gandhinagar: state health minister suresh meht...</td>\n",
       "    </tr>\n",
       "    <tr>\n",
       "      <th>4</th>\n",
       "      <td>Aug 15, 2001</td>\n",
       "      <td>Three-in-one drug for HIV receives mixed reaction</td>\n",
       "      <td>mumbai: the launch of a capsule, a combination...</td>\n",
       "    </tr>\n",
       "  </tbody>\n",
       "</table>\n",
       "</div>"
      ],
      "text/plain": [
       "           Date                                              Title  \\\n",
       "0  May 22, 2001              Chinese HIV+ family seek compensation   \n",
       "1  May 28, 2001                  NACO declares HIV, AIDS epidemics   \n",
       "2  Aug 13, 2001          Levi's contributes to  HIV/AIDS awareness   \n",
       "3   Aug 7, 2001       Mehta denies HIV blood given to Jamnagar boy   \n",
       "4  Aug 15, 2001  Three-in-one drug for HIV receives mixed reaction   \n",
       "\n",
       "                                             article  \n",
       "0  shanghai: a father and daughter infected with ...  \n",
       "1  patna: with the hiv infection affecting about ...  \n",
       "2  bangalore: the levi strauss foundation on mond...  \n",
       "3  gandhinagar: state health minister suresh meht...  \n",
       "4  mumbai: the launch of a capsule, a combination...  "
      ]
     },
     "execution_count": 18,
     "metadata": {},
     "output_type": "execute_result"
    }
   ],
   "source": [
    "df['Date'] = df.Date.apply(', '.join)\n",
    "df.head()"
   ]
  },
  {
   "cell_type": "code",
   "execution_count": 19,
   "metadata": {},
   "outputs": [
    {
     "data": {
      "text/plain": [
       "str"
      ]
     },
     "execution_count": 19,
     "metadata": {},
     "output_type": "execute_result"
    }
   ],
   "source": [
    "type(df['Date'][0])"
   ]
  },
  {
   "cell_type": "code",
   "execution_count": 20,
   "metadata": {},
   "outputs": [
    {
     "data": {
      "text/html": [
       "<div>\n",
       "<style>\n",
       "    .dataframe thead tr:only-child th {\n",
       "        text-align: right;\n",
       "    }\n",
       "\n",
       "    .dataframe thead th {\n",
       "        text-align: left;\n",
       "    }\n",
       "\n",
       "    .dataframe tbody tr th {\n",
       "        vertical-align: top;\n",
       "    }\n",
       "</style>\n",
       "<table border=\"1\" class=\"dataframe\">\n",
       "  <thead>\n",
       "    <tr style=\"text-align: right;\">\n",
       "      <th></th>\n",
       "      <th>Date</th>\n",
       "      <th>Title</th>\n",
       "      <th>article</th>\n",
       "    </tr>\n",
       "  </thead>\n",
       "  <tbody>\n",
       "    <tr>\n",
       "      <th>0</th>\n",
       "      <td>May 22 2001</td>\n",
       "      <td>Chinese HIV+ family seek compensation</td>\n",
       "      <td>shanghai: a father and daughter infected with ...</td>\n",
       "    </tr>\n",
       "    <tr>\n",
       "      <th>1</th>\n",
       "      <td>May 28 2001</td>\n",
       "      <td>NACO declares HIV, AIDS epidemics</td>\n",
       "      <td>patna: with the hiv infection affecting about ...</td>\n",
       "    </tr>\n",
       "    <tr>\n",
       "      <th>2</th>\n",
       "      <td>Aug 13 2001</td>\n",
       "      <td>Levi's contributes to  HIV/AIDS awareness</td>\n",
       "      <td>bangalore: the levi strauss foundation on mond...</td>\n",
       "    </tr>\n",
       "    <tr>\n",
       "      <th>3</th>\n",
       "      <td>Aug 7 2001</td>\n",
       "      <td>Mehta denies HIV blood given to Jamnagar boy</td>\n",
       "      <td>gandhinagar: state health minister suresh meht...</td>\n",
       "    </tr>\n",
       "    <tr>\n",
       "      <th>4</th>\n",
       "      <td>Aug 15 2001</td>\n",
       "      <td>Three-in-one drug for HIV receives mixed reaction</td>\n",
       "      <td>mumbai: the launch of a capsule, a combination...</td>\n",
       "    </tr>\n",
       "  </tbody>\n",
       "</table>\n",
       "</div>"
      ],
      "text/plain": [
       "          Date                                              Title  \\\n",
       "0  May 22 2001              Chinese HIV+ family seek compensation   \n",
       "1  May 28 2001                  NACO declares HIV, AIDS epidemics   \n",
       "2  Aug 13 2001          Levi's contributes to  HIV/AIDS awareness   \n",
       "3   Aug 7 2001       Mehta denies HIV blood given to Jamnagar boy   \n",
       "4  Aug 15 2001  Three-in-one drug for HIV receives mixed reaction   \n",
       "\n",
       "                                             article  \n",
       "0  shanghai: a father and daughter infected with ...  \n",
       "1  patna: with the hiv infection affecting about ...  \n",
       "2  bangalore: the levi strauss foundation on mond...  \n",
       "3  gandhinagar: state health minister suresh meht...  \n",
       "4  mumbai: the launch of a capsule, a combination...  "
      ]
     },
     "execution_count": 20,
     "metadata": {},
     "output_type": "execute_result"
    }
   ],
   "source": [
    "df['Date'] = df['Date'].str.replace(',','').astype('str')\n",
    "df.head()"
   ]
  },
  {
   "cell_type": "code",
   "execution_count": 21,
   "metadata": {},
   "outputs": [
    {
     "data": {
      "text/html": [
       "<div>\n",
       "<style>\n",
       "    .dataframe thead tr:only-child th {\n",
       "        text-align: right;\n",
       "    }\n",
       "\n",
       "    .dataframe thead th {\n",
       "        text-align: left;\n",
       "    }\n",
       "\n",
       "    .dataframe tbody tr th {\n",
       "        vertical-align: top;\n",
       "    }\n",
       "</style>\n",
       "<table border=\"1\" class=\"dataframe\">\n",
       "  <thead>\n",
       "    <tr style=\"text-align: right;\">\n",
       "      <th></th>\n",
       "      <th>Date</th>\n",
       "      <th>Title</th>\n",
       "      <th>article</th>\n",
       "    </tr>\n",
       "  </thead>\n",
       "  <tbody>\n",
       "    <tr>\n",
       "      <th>0</th>\n",
       "      <td>2001-05-22</td>\n",
       "      <td>Chinese HIV+ family seek compensation</td>\n",
       "      <td>shanghai: a father and daughter infected with ...</td>\n",
       "    </tr>\n",
       "    <tr>\n",
       "      <th>1</th>\n",
       "      <td>2001-05-28</td>\n",
       "      <td>NACO declares HIV, AIDS epidemics</td>\n",
       "      <td>patna: with the hiv infection affecting about ...</td>\n",
       "    </tr>\n",
       "    <tr>\n",
       "      <th>2</th>\n",
       "      <td>2001-08-13</td>\n",
       "      <td>Levi's contributes to  HIV/AIDS awareness</td>\n",
       "      <td>bangalore: the levi strauss foundation on mond...</td>\n",
       "    </tr>\n",
       "    <tr>\n",
       "      <th>3</th>\n",
       "      <td>2001-08-07</td>\n",
       "      <td>Mehta denies HIV blood given to Jamnagar boy</td>\n",
       "      <td>gandhinagar: state health minister suresh meht...</td>\n",
       "    </tr>\n",
       "    <tr>\n",
       "      <th>4</th>\n",
       "      <td>2001-08-15</td>\n",
       "      <td>Three-in-one drug for HIV receives mixed reaction</td>\n",
       "      <td>mumbai: the launch of a capsule, a combination...</td>\n",
       "    </tr>\n",
       "  </tbody>\n",
       "</table>\n",
       "</div>"
      ],
      "text/plain": [
       "        Date                                              Title  \\\n",
       "0 2001-05-22              Chinese HIV+ family seek compensation   \n",
       "1 2001-05-28                  NACO declares HIV, AIDS epidemics   \n",
       "2 2001-08-13          Levi's contributes to  HIV/AIDS awareness   \n",
       "3 2001-08-07       Mehta denies HIV blood given to Jamnagar boy   \n",
       "4 2001-08-15  Three-in-one drug for HIV receives mixed reaction   \n",
       "\n",
       "                                             article  \n",
       "0  shanghai: a father and daughter infected with ...  \n",
       "1  patna: with the hiv infection affecting about ...  \n",
       "2  bangalore: the levi strauss foundation on mond...  \n",
       "3  gandhinagar: state health minister suresh meht...  \n",
       "4  mumbai: the launch of a capsule, a combination...  "
      ]
     },
     "execution_count": 21,
     "metadata": {},
     "output_type": "execute_result"
    }
   ],
   "source": [
    "#df['Date'] = df['Date'].apply(lambda x: datetime.strptime(x, '%b %d %Y').strftime('%d/%m/%Y'))\n",
    "df['Date'] = df['Date'].apply(lambda x: datetime.strptime(x, '%b %d %Y'))\n",
    "df.head()"
   ]
  },
  {
   "cell_type": "code",
   "execution_count": 22,
   "metadata": {
    "collapsed": true
   },
   "outputs": [],
   "source": [
    "df['Date'] = pd.to_datetime(df['Date'])"
   ]
  },
  {
   "cell_type": "code",
   "execution_count": 23,
   "metadata": {
    "collapsed": true
   },
   "outputs": [],
   "source": [
    "df = df.reset_index(drop=True).set_index('Date')"
   ]
  },
  {
   "cell_type": "code",
   "execution_count": 24,
   "metadata": {},
   "outputs": [
    {
     "data": {
      "text/html": [
       "<div>\n",
       "<style>\n",
       "    .dataframe thead tr:only-child th {\n",
       "        text-align: right;\n",
       "    }\n",
       "\n",
       "    .dataframe thead th {\n",
       "        text-align: left;\n",
       "    }\n",
       "\n",
       "    .dataframe tbody tr th {\n",
       "        vertical-align: top;\n",
       "    }\n",
       "</style>\n",
       "<table border=\"1\" class=\"dataframe\">\n",
       "  <thead>\n",
       "    <tr style=\"text-align: right;\">\n",
       "      <th></th>\n",
       "      <th>Title</th>\n",
       "      <th>article</th>\n",
       "    </tr>\n",
       "    <tr>\n",
       "      <th>Date</th>\n",
       "      <th></th>\n",
       "      <th></th>\n",
       "    </tr>\n",
       "  </thead>\n",
       "  <tbody>\n",
       "    <tr>\n",
       "      <th>2001-05-22</th>\n",
       "      <td>Chinese HIV+ family seek compensation</td>\n",
       "      <td>shanghai: a father and daughter infected with ...</td>\n",
       "    </tr>\n",
       "    <tr>\n",
       "      <th>2001-05-28</th>\n",
       "      <td>NACO declares HIV, AIDS epidemics</td>\n",
       "      <td>patna: with the hiv infection affecting about ...</td>\n",
       "    </tr>\n",
       "    <tr>\n",
       "      <th>2001-08-13</th>\n",
       "      <td>Levi's contributes to  HIV/AIDS awareness</td>\n",
       "      <td>bangalore: the levi strauss foundation on mond...</td>\n",
       "    </tr>\n",
       "    <tr>\n",
       "      <th>2001-08-07</th>\n",
       "      <td>Mehta denies HIV blood given to Jamnagar boy</td>\n",
       "      <td>gandhinagar: state health minister suresh meht...</td>\n",
       "    </tr>\n",
       "    <tr>\n",
       "      <th>2001-08-15</th>\n",
       "      <td>Three-in-one drug for HIV receives mixed reaction</td>\n",
       "      <td>mumbai: the launch of a capsule, a combination...</td>\n",
       "    </tr>\n",
       "  </tbody>\n",
       "</table>\n",
       "</div>"
      ],
      "text/plain": [
       "                                                        Title  \\\n",
       "Date                                                            \n",
       "2001-05-22              Chinese HIV+ family seek compensation   \n",
       "2001-05-28                  NACO declares HIV, AIDS epidemics   \n",
       "2001-08-13          Levi's contributes to  HIV/AIDS awareness   \n",
       "2001-08-07       Mehta denies HIV blood given to Jamnagar boy   \n",
       "2001-08-15  Three-in-one drug for HIV receives mixed reaction   \n",
       "\n",
       "                                                      article  \n",
       "Date                                                           \n",
       "2001-05-22  shanghai: a father and daughter infected with ...  \n",
       "2001-05-28  patna: with the hiv infection affecting about ...  \n",
       "2001-08-13  bangalore: the levi strauss foundation on mond...  \n",
       "2001-08-07  gandhinagar: state health minister suresh meht...  \n",
       "2001-08-15  mumbai: the launch of a capsule, a combination...  "
      ]
     },
     "execution_count": 24,
     "metadata": {},
     "output_type": "execute_result"
    }
   ],
   "source": [
    "df.head()"
   ]
  },
  {
   "cell_type": "code",
   "execution_count": 15,
   "metadata": {},
   "outputs": [
    {
     "data": {
      "text/plain": [
       "pandas.core.indexes.datetimes.DatetimeIndex"
      ]
     },
     "execution_count": 15,
     "metadata": {},
     "output_type": "execute_result"
    }
   ],
   "source": [
    "type(df.index)"
   ]
  },
  {
   "cell_type": "code",
   "execution_count": 25,
   "metadata": {
    "collapsed": true
   },
   "outputs": [],
   "source": [
    "#df.groupby(df['Date'].dt.strftime('%B'))['Title'].count().sort_values()\n",
    "df.index = pd.to_datetime(df.index)"
   ]
  },
  {
   "cell_type": "code",
   "execution_count": 27,
   "metadata": {},
   "outputs": [
    {
     "data": {
      "text/html": [
       "<div>\n",
       "<style>\n",
       "    .dataframe thead tr:only-child th {\n",
       "        text-align: right;\n",
       "    }\n",
       "\n",
       "    .dataframe thead th {\n",
       "        text-align: left;\n",
       "    }\n",
       "\n",
       "    .dataframe tbody tr th {\n",
       "        vertical-align: top;\n",
       "    }\n",
       "</style>\n",
       "<table border=\"1\" class=\"dataframe\">\n",
       "  <thead>\n",
       "    <tr style=\"text-align: right;\">\n",
       "      <th></th>\n",
       "      <th>Title</th>\n",
       "      <th>article</th>\n",
       "    </tr>\n",
       "    <tr>\n",
       "      <th>Date</th>\n",
       "      <th></th>\n",
       "      <th></th>\n",
       "    </tr>\n",
       "  </thead>\n",
       "  <tbody>\n",
       "    <tr>\n",
       "      <th>2001-05-22</th>\n",
       "      <td>Chinese HIV+ family seek compensation</td>\n",
       "      <td>shanghai: a father and daughter infected with ...</td>\n",
       "    </tr>\n",
       "    <tr>\n",
       "      <th>2001-05-28</th>\n",
       "      <td>NACO declares HIV, AIDS epidemics</td>\n",
       "      <td>patna: with the hiv infection affecting about ...</td>\n",
       "    </tr>\n",
       "    <tr>\n",
       "      <th>2001-08-13</th>\n",
       "      <td>Levi's contributes to  HIV/AIDS awareness</td>\n",
       "      <td>bangalore: the levi strauss foundation on mond...</td>\n",
       "    </tr>\n",
       "    <tr>\n",
       "      <th>2001-08-07</th>\n",
       "      <td>Mehta denies HIV blood given to Jamnagar boy</td>\n",
       "      <td>gandhinagar: state health minister suresh meht...</td>\n",
       "    </tr>\n",
       "    <tr>\n",
       "      <th>2001-08-15</th>\n",
       "      <td>Three-in-one drug for HIV receives mixed reaction</td>\n",
       "      <td>mumbai: the launch of a capsule, a combination...</td>\n",
       "    </tr>\n",
       "  </tbody>\n",
       "</table>\n",
       "</div>"
      ],
      "text/plain": [
       "                                                        Title  \\\n",
       "Date                                                            \n",
       "2001-05-22              Chinese HIV+ family seek compensation   \n",
       "2001-05-28                  NACO declares HIV, AIDS epidemics   \n",
       "2001-08-13          Levi's contributes to  HIV/AIDS awareness   \n",
       "2001-08-07       Mehta denies HIV blood given to Jamnagar boy   \n",
       "2001-08-15  Three-in-one drug for HIV receives mixed reaction   \n",
       "\n",
       "                                                      article  \n",
       "Date                                                           \n",
       "2001-05-22  shanghai: a father and daughter infected with ...  \n",
       "2001-05-28  patna: with the hiv infection affecting about ...  \n",
       "2001-08-13  bangalore: the levi strauss foundation on mond...  \n",
       "2001-08-07  gandhinagar: state health minister suresh meht...  \n",
       "2001-08-15  mumbai: the launch of a capsule, a combination...  "
      ]
     },
     "execution_count": 27,
     "metadata": {},
     "output_type": "execute_result"
    }
   ],
   "source": [
    "df.head()"
   ]
  },
  {
   "cell_type": "markdown",
   "metadata": {},
   "source": [
    "## Yearwise Plot"
   ]
  },
  {
   "cell_type": "code",
   "execution_count": 32,
   "metadata": {},
   "outputs": [
    {
     "data": {
      "text/html": [
       "<div>\n",
       "<style>\n",
       "    .dataframe thead tr:only-child th {\n",
       "        text-align: right;\n",
       "    }\n",
       "\n",
       "    .dataframe thead th {\n",
       "        text-align: left;\n",
       "    }\n",
       "\n",
       "    .dataframe tbody tr th {\n",
       "        vertical-align: top;\n",
       "    }\n",
       "</style>\n",
       "<table border=\"1\" class=\"dataframe\">\n",
       "  <thead>\n",
       "    <tr style=\"text-align: right;\">\n",
       "      <th></th>\n",
       "      <th>Title</th>\n",
       "      <th>article</th>\n",
       "    </tr>\n",
       "    <tr>\n",
       "      <th>Date</th>\n",
       "      <th></th>\n",
       "      <th></th>\n",
       "    </tr>\n",
       "  </thead>\n",
       "  <tbody>\n",
       "    <tr>\n",
       "      <th>2001-01-01</th>\n",
       "      <td>27</td>\n",
       "      <td>27</td>\n",
       "    </tr>\n",
       "    <tr>\n",
       "      <th>2002-01-01</th>\n",
       "      <td>82</td>\n",
       "      <td>82</td>\n",
       "    </tr>\n",
       "    <tr>\n",
       "      <th>2003-01-01</th>\n",
       "      <td>95</td>\n",
       "      <td>95</td>\n",
       "    </tr>\n",
       "    <tr>\n",
       "      <th>2004-01-01</th>\n",
       "      <td>59</td>\n",
       "      <td>59</td>\n",
       "    </tr>\n",
       "    <tr>\n",
       "      <th>2005-01-01</th>\n",
       "      <td>58</td>\n",
       "      <td>58</td>\n",
       "    </tr>\n",
       "  </tbody>\n",
       "</table>\n",
       "</div>"
      ],
      "text/plain": [
       "            Title  article\n",
       "Date                      \n",
       "2001-01-01     27       27\n",
       "2002-01-01     82       82\n",
       "2003-01-01     95       95\n",
       "2004-01-01     59       59\n",
       "2005-01-01     58       58"
      ]
     },
     "execution_count": 32,
     "metadata": {},
     "output_type": "execute_result"
    }
   ],
   "source": [
    "df1 = df.resample('AS').count()\n",
    "df1.head()"
   ]
  },
  {
   "cell_type": "code",
   "execution_count": null,
   "metadata": {
    "collapsed": true
   },
   "outputs": [],
   "source": []
  },
  {
   "cell_type": "code",
   "execution_count": 43,
   "metadata": {
    "scrolled": false
   },
   "outputs": [
    {
     "data": {
      "image/png": "[encoded data removed]",
      "text/plain": [
       "<matplotlib.figure.Figure at 0x7fdae5d3eba8>"
      ]
     },
     "metadata": {},
     "output_type": "display_data"
    }
   ],
   "source": [
    "# Yearly Plot\n",
    "fig, ax = plt.subplots(figsize=(16, 8))\n",
    "plt.yticks(np.arange(df1['Title'].min(), df1['Title'].max()+20, 20))\n",
    "plt.xticks(df1.index)\n",
    "ax.xaxis.set_major_formatter(mdates.DateFormatter('%Y'))\n",
    "#plt.grid(True)\n",
    "ax.grid(color='black', zorder=0)\n",
    "ax.bar(df1.index, df1['Title'], width = 100, zorder=3)\n",
    "plt.xlabel('Year', fontsize=12)\n",
    "plt.ylabel('Number of articles', fontsize=12)\n",
    "plt.title(\"Number of articles published by TOI year-wise\")\n",
    "plt.show()"
   ]
  },
  {
   "cell_type": "markdown",
   "metadata": {},
   "source": [
    "## Monthly Plot"
   ]
  },
  {
   "cell_type": "code",
   "execution_count": 37,
   "metadata": {
    "collapsed": true
   },
   "outputs": [],
   "source": [
    "# quarter start frequency\n",
    "df_m = df.resample('M').count()"
   ]
  },
  {
   "cell_type": "code",
   "execution_count": 38,
   "metadata": {
    "scrolled": true
   },
   "outputs": [
    {
     "data": {
      "text/html": [
       "<div>\n",
       "<style>\n",
       "    .dataframe thead tr:only-child th {\n",
       "        text-align: right;\n",
       "    }\n",
       "\n",
       "    .dataframe thead th {\n",
       "        text-align: left;\n",
       "    }\n",
       "\n",
       "    .dataframe tbody tr th {\n",
       "        vertical-align: top;\n",
       "    }\n",
       "</style>\n",
       "<table border=\"1\" class=\"dataframe\">\n",
       "  <thead>\n",
       "    <tr style=\"text-align: right;\">\n",
       "      <th></th>\n",
       "      <th>Title</th>\n",
       "      <th>article</th>\n",
       "    </tr>\n",
       "    <tr>\n",
       "      <th>Date</th>\n",
       "      <th></th>\n",
       "      <th></th>\n",
       "    </tr>\n",
       "  </thead>\n",
       "  <tbody>\n",
       "    <tr>\n",
       "      <th>2001-05-31</th>\n",
       "      <td>2</td>\n",
       "      <td>2</td>\n",
       "    </tr>\n",
       "    <tr>\n",
       "      <th>2001-06-30</th>\n",
       "      <td>0</td>\n",
       "      <td>0</td>\n",
       "    </tr>\n",
       "    <tr>\n",
       "      <th>2001-07-31</th>\n",
       "      <td>0</td>\n",
       "      <td>0</td>\n",
       "    </tr>\n",
       "    <tr>\n",
       "      <th>2001-08-31</th>\n",
       "      <td>6</td>\n",
       "      <td>6</td>\n",
       "    </tr>\n",
       "    <tr>\n",
       "      <th>2001-09-30</th>\n",
       "      <td>1</td>\n",
       "      <td>1</td>\n",
       "    </tr>\n",
       "  </tbody>\n",
       "</table>\n",
       "</div>"
      ],
      "text/plain": [
       "            Title  article\n",
       "Date                      \n",
       "2001-05-31      2        2\n",
       "2001-06-30      0        0\n",
       "2001-07-31      0        0\n",
       "2001-08-31      6        6\n",
       "2001-09-30      1        1"
      ]
     },
     "execution_count": 38,
     "metadata": {},
     "output_type": "execute_result"
    }
   ],
   "source": [
    "df_m.head()"
   ]
  },
  {
   "cell_type": "code",
   "execution_count": 41,
   "metadata": {},
   "outputs": [
    {
     "data": {
      "image/png": "[encoded data removed]",
      "text/plain": [
       "<matplotlib.figure.Figure at 0x7fdaed2279e8>"
      ]
     },
     "metadata": {},
     "output_type": "display_data"
    }
   ],
   "source": [
    "fig, ax = plt.subplots(figsize=(16,8))\n",
    "plt.yticks(np.arange(df_m['Title'].min(), df_m['Title'].max()+1, 2))\n",
    "ax.xaxis.set_major_formatter(mdates.DateFormatter('%b-%Y'))\n",
    "ax.bar(df_m.index, df_m['Title'], width = 20, zorder=10)\n",
    "plt.xticks(df_semi.index, rotation=70)\n",
    "plt.xlabel('Date (Month)', fontsize=12)\n",
    "plt.ylabel('Number of articles', fontsize=12)\n",
    "plt.show()"
   ]
  },
  {
   "cell_type": "code",
   "execution_count": 40,
   "metadata": {
    "collapsed": true
   },
   "outputs": [],
   "source": [
    "df_semi = df.resample('2Q').count()"
   ]
  },
  {
   "cell_type": "markdown",
   "metadata": {},
   "source": [
    "# Indian Express"
   ]
  },
  {
   "cell_type": "code",
   "execution_count": 37,
   "metadata": {},
   "outputs": [
    {
     "data": {
      "text/html": [
       "<div>\n",
       "<style>\n",
       "    .dataframe thead tr:only-child th {\n",
       "        text-align: right;\n",
       "    }\n",
       "\n",
       "    .dataframe thead th {\n",
       "        text-align: left;\n",
       "    }\n",
       "\n",
       "    .dataframe tbody tr th {\n",
       "        vertical-align: top;\n",
       "    }\n",
       "</style>\n",
       "<table border=\"1\" class=\"dataframe\">\n",
       "  <thead>\n",
       "    <tr style=\"text-align: right;\">\n",
       "      <th></th>\n",
       "      <th>Date</th>\n",
       "      <th>Title</th>\n",
       "      <th>article</th>\n",
       "    </tr>\n",
       "  </thead>\n",
       "  <tbody>\n",
       "    <tr>\n",
       "      <th>0</th>\n",
       "      <td>Posted:, Fri May 09 1997 IST</td>\n",
       "      <td>Drug cocktail to wipe out HIV will take 3 years</td>\n",
       "      <td>, LONDON, May 8: Drugs meant to wipe out the ...</td>\n",
       "    </tr>\n",
       "    <tr>\n",
       "      <th>1</th>\n",
       "      <td>Posted:, Sun Jun 22 1997 IST</td>\n",
       "      <td>Book on healthy living for HIV positives</td>\n",
       "      <td>, CHENNAI, June 20: The Tamil Nadu State AIDS...</td>\n",
       "    </tr>\n",
       "    <tr>\n",
       "      <th>2</th>\n",
       "      <td>Posted:, Mon Aug 04 1997 IST</td>\n",
       "      <td>Testing HIV-positive is not the end of the road</td>\n",
       "      <td>, August 3: A skit on HIV-AIDS is in progress...</td>\n",
       "    </tr>\n",
       "    <tr>\n",
       "      <th>3</th>\n",
       "      <td>Posted:, Sun Nov 30 1997 IST</td>\n",
       "      <td>HIV positive student deported</td>\n",
       "      <td>, AURANGABAD, November 29: A girl student fro...</td>\n",
       "    </tr>\n",
       "    <tr>\n",
       "      <th>4</th>\n",
       "      <td>Posted:, Sat Nov 22 1997 IST</td>\n",
       "      <td>World Vignettes -- \"Weapon\" to counter HIV virus</td>\n",
       "      <td>, WASHINGTON: It may take a virus to kill a v...</td>\n",
       "    </tr>\n",
       "  </tbody>\n",
       "</table>\n",
       "</div>"
      ],
      "text/plain": [
       "                           Date  \\\n",
       "0  Posted:, Fri May 09 1997 IST   \n",
       "1  Posted:, Sun Jun 22 1997 IST   \n",
       "2  Posted:, Mon Aug 04 1997 IST   \n",
       "3  Posted:, Sun Nov 30 1997 IST   \n",
       "4  Posted:, Sat Nov 22 1997 IST   \n",
       "\n",
       "                                              Title  \\\n",
       "0   Drug cocktail to wipe out HIV will take 3 years   \n",
       "1          Book on healthy living for HIV positives   \n",
       "2   Testing HIV-positive is not the end of the road   \n",
       "3                     HIV positive student deported   \n",
       "4  World Vignettes -- \"Weapon\" to counter HIV virus   \n",
       "\n",
       "                                             article  \n",
       "0   , LONDON, May 8: Drugs meant to wipe out the ...  \n",
       "1   , CHENNAI, June 20: The Tamil Nadu State AIDS...  \n",
       "2   , August 3: A skit on HIV-AIDS is in progress...  \n",
       "3   , AURANGABAD, November 29: A girl student fro...  \n",
       "4   , WASHINGTON: It may take a virus to kill a v...  "
      ]
     },
     "execution_count": 37,
     "metadata": {},
     "output_type": "execute_result"
    }
   ],
   "source": [
    "df = pd.read_csv('data/HIV_IE.csv')\n",
    "df.head()"
   ]
  },
  {
   "cell_type": "code",
   "execution_count": 38,
   "metadata": {
    "collapsed": true
   },
   "outputs": [],
   "source": [
    "df.dropna(how='any', axis=0, inplace=True)\n",
    "df.reset_index(drop=True, inplace=True)"
   ]
  },
  {
   "cell_type": "code",
   "execution_count": 39,
   "metadata": {
    "collapsed": true
   },
   "outputs": [],
   "source": [
    "df['Date'] = df['Date'].apply(lambda x: re.findall(r'[a-zA-Z]{3}\\s[0-9]{1,2}(?:,)*(?:\\s)*[0-9]{4}', x))"
   ]
  },
  {
   "cell_type": "code",
   "execution_count": 40,
   "metadata": {},
   "outputs": [
    {
     "data": {
      "text/html": [
       "<div>\n",
       "<style>\n",
       "    .dataframe thead tr:only-child th {\n",
       "        text-align: right;\n",
       "    }\n",
       "\n",
       "    .dataframe thead th {\n",
       "        text-align: left;\n",
       "    }\n",
       "\n",
       "    .dataframe tbody tr th {\n",
       "        vertical-align: top;\n",
       "    }\n",
       "</style>\n",
       "<table border=\"1\" class=\"dataframe\">\n",
       "  <thead>\n",
       "    <tr style=\"text-align: right;\">\n",
       "      <th></th>\n",
       "      <th>Date</th>\n",
       "      <th>Title</th>\n",
       "      <th>article</th>\n",
       "    </tr>\n",
       "  </thead>\n",
       "  <tbody>\n",
       "    <tr>\n",
       "      <th>0</th>\n",
       "      <td>[May 09 1997]</td>\n",
       "      <td>Drug cocktail to wipe out HIV will take 3 years</td>\n",
       "      <td>, LONDON, May 8: Drugs meant to wipe out the ...</td>\n",
       "    </tr>\n",
       "    <tr>\n",
       "      <th>1</th>\n",
       "      <td>[Jun 22 1997]</td>\n",
       "      <td>Book on healthy living for HIV positives</td>\n",
       "      <td>, CHENNAI, June 20: The Tamil Nadu State AIDS...</td>\n",
       "    </tr>\n",
       "    <tr>\n",
       "      <th>2</th>\n",
       "      <td>[Aug 04 1997]</td>\n",
       "      <td>Testing HIV-positive is not the end of the road</td>\n",
       "      <td>, August 3: A skit on HIV-AIDS is in progress...</td>\n",
       "    </tr>\n",
       "    <tr>\n",
       "      <th>3</th>\n",
       "      <td>[Nov 30 1997]</td>\n",
       "      <td>HIV positive student deported</td>\n",
       "      <td>, AURANGABAD, November 29: A girl student fro...</td>\n",
       "    </tr>\n",
       "    <tr>\n",
       "      <th>4</th>\n",
       "      <td>[Nov 22 1997]</td>\n",
       "      <td>World Vignettes -- \"Weapon\" to counter HIV virus</td>\n",
       "      <td>, WASHINGTON: It may take a virus to kill a v...</td>\n",
       "    </tr>\n",
       "  </tbody>\n",
       "</table>\n",
       "</div>"
      ],
      "text/plain": [
       "            Date                                             Title  \\\n",
       "0  [May 09 1997]   Drug cocktail to wipe out HIV will take 3 years   \n",
       "1  [Jun 22 1997]          Book on healthy living for HIV positives   \n",
       "2  [Aug 04 1997]   Testing HIV-positive is not the end of the road   \n",
       "3  [Nov 30 1997]                     HIV positive student deported   \n",
       "4  [Nov 22 1997]  World Vignettes -- \"Weapon\" to counter HIV virus   \n",
       "\n",
       "                                             article  \n",
       "0   , LONDON, May 8: Drugs meant to wipe out the ...  \n",
       "1   , CHENNAI, June 20: The Tamil Nadu State AIDS...  \n",
       "2   , August 3: A skit on HIV-AIDS is in progress...  \n",
       "3   , AURANGABAD, November 29: A girl student fro...  \n",
       "4   , WASHINGTON: It may take a virus to kill a v...  "
      ]
     },
     "execution_count": 40,
     "metadata": {},
     "output_type": "execute_result"
    }
   ],
   "source": [
    "df.head()"
   ]
  },
  {
   "cell_type": "code",
   "execution_count": 41,
   "metadata": {},
   "outputs": [
    {
     "data": {
      "text/html": [
       "<div>\n",
       "<style>\n",
       "    .dataframe thead tr:only-child th {\n",
       "        text-align: right;\n",
       "    }\n",
       "\n",
       "    .dataframe thead th {\n",
       "        text-align: left;\n",
       "    }\n",
       "\n",
       "    .dataframe tbody tr th {\n",
       "        vertical-align: top;\n",
       "    }\n",
       "</style>\n",
       "<table border=\"1\" class=\"dataframe\">\n",
       "  <thead>\n",
       "    <tr style=\"text-align: right;\">\n",
       "      <th></th>\n",
       "      <th>Date</th>\n",
       "      <th>Title</th>\n",
       "      <th>article</th>\n",
       "    </tr>\n",
       "  </thead>\n",
       "  <tbody>\n",
       "    <tr>\n",
       "      <th>0</th>\n",
       "      <td>May 09 1997</td>\n",
       "      <td>Drug cocktail to wipe out HIV will take 3 years</td>\n",
       "      <td>, LONDON, May 8: Drugs meant to wipe out the ...</td>\n",
       "    </tr>\n",
       "    <tr>\n",
       "      <th>1</th>\n",
       "      <td>Jun 22 1997</td>\n",
       "      <td>Book on healthy living for HIV positives</td>\n",
       "      <td>, CHENNAI, June 20: The Tamil Nadu State AIDS...</td>\n",
       "    </tr>\n",
       "    <tr>\n",
       "      <th>2</th>\n",
       "      <td>Aug 04 1997</td>\n",
       "      <td>Testing HIV-positive is not the end of the road</td>\n",
       "      <td>, August 3: A skit on HIV-AIDS is in progress...</td>\n",
       "    </tr>\n",
       "    <tr>\n",
       "      <th>3</th>\n",
       "      <td>Nov 30 1997</td>\n",
       "      <td>HIV positive student deported</td>\n",
       "      <td>, AURANGABAD, November 29: A girl student fro...</td>\n",
       "    </tr>\n",
       "    <tr>\n",
       "      <th>4</th>\n",
       "      <td>Nov 22 1997</td>\n",
       "      <td>World Vignettes -- \"Weapon\" to counter HIV virus</td>\n",
       "      <td>, WASHINGTON: It may take a virus to kill a v...</td>\n",
       "    </tr>\n",
       "  </tbody>\n",
       "</table>\n",
       "</div>"
      ],
      "text/plain": [
       "          Date                                             Title  \\\n",
       "0  May 09 1997   Drug cocktail to wipe out HIV will take 3 years   \n",
       "1  Jun 22 1997          Book on healthy living for HIV positives   \n",
       "2  Aug 04 1997   Testing HIV-positive is not the end of the road   \n",
       "3  Nov 30 1997                     HIV positive student deported   \n",
       "4  Nov 22 1997  World Vignettes -- \"Weapon\" to counter HIV virus   \n",
       "\n",
       "                                             article  \n",
       "0   , LONDON, May 8: Drugs meant to wipe out the ...  \n",
       "1   , CHENNAI, June 20: The Tamil Nadu State AIDS...  \n",
       "2   , August 3: A skit on HIV-AIDS is in progress...  \n",
       "3   , AURANGABAD, November 29: A girl student fro...  \n",
       "4   , WASHINGTON: It may take a virus to kill a v...  "
      ]
     },
     "execution_count": 41,
     "metadata": {},
     "output_type": "execute_result"
    }
   ],
   "source": [
    "df['Date'] = df.Date.apply(''.join)\n",
    "df.head()"
   ]
  },
  {
   "cell_type": "code",
   "execution_count": 42,
   "metadata": {
    "collapsed": true
   },
   "outputs": [],
   "source": [
    "df['Date'] = df['Date'].str.replace(',', '').astype('str')"
   ]
  },
  {
   "cell_type": "code",
   "execution_count": 44,
   "metadata": {
    "collapsed": true
   },
   "outputs": [],
   "source": [
    "df['Date'] = df['Date'].apply(lambda x: datetime.strptime(x, '%b %d %Y'))"
   ]
  },
  {
   "cell_type": "code",
   "execution_count": 45,
   "metadata": {
    "collapsed": true
   },
   "outputs": [],
   "source": [
    "df['Date'] = pd.to_datetime(df['Date'])\n",
    "df = df.reset_index(drop=True).set_index('Date')"
   ]
  },
  {
   "cell_type": "code",
   "execution_count": 46,
   "metadata": {},
   "outputs": [
    {
     "data": {
      "text/html": [
       "<div>\n",
       "<style>\n",
       "    .dataframe thead tr:only-child th {\n",
       "        text-align: right;\n",
       "    }\n",
       "\n",
       "    .dataframe thead th {\n",
       "        text-align: left;\n",
       "    }\n",
       "\n",
       "    .dataframe tbody tr th {\n",
       "        vertical-align: top;\n",
       "    }\n",
       "</style>\n",
       "<table border=\"1\" class=\"dataframe\">\n",
       "  <thead>\n",
       "    <tr style=\"text-align: right;\">\n",
       "      <th></th>\n",
       "      <th>Title</th>\n",
       "      <th>article</th>\n",
       "    </tr>\n",
       "    <tr>\n",
       "      <th>Date</th>\n",
       "      <th></th>\n",
       "      <th></th>\n",
       "    </tr>\n",
       "  </thead>\n",
       "  <tbody>\n",
       "    <tr>\n",
       "      <th>1997-05-09</th>\n",
       "      <td>Drug cocktail to wipe out HIV will take 3 years</td>\n",
       "      <td>, LONDON, May 8: Drugs meant to wipe out the ...</td>\n",
       "    </tr>\n",
       "    <tr>\n",
       "      <th>1997-06-22</th>\n",
       "      <td>Book on healthy living for HIV positives</td>\n",
       "      <td>, CHENNAI, June 20: The Tamil Nadu State AIDS...</td>\n",
       "    </tr>\n",
       "    <tr>\n",
       "      <th>1997-08-04</th>\n",
       "      <td>Testing HIV-positive is not the end of the road</td>\n",
       "      <td>, August 3: A skit on HIV-AIDS is in progress...</td>\n",
       "    </tr>\n",
       "    <tr>\n",
       "      <th>1997-11-30</th>\n",
       "      <td>HIV positive student deported</td>\n",
       "      <td>, AURANGABAD, November 29: A girl student fro...</td>\n",
       "    </tr>\n",
       "    <tr>\n",
       "      <th>1997-11-22</th>\n",
       "      <td>World Vignettes -- \"Weapon\" to counter HIV virus</td>\n",
       "      <td>, WASHINGTON: It may take a virus to kill a v...</td>\n",
       "    </tr>\n",
       "  </tbody>\n",
       "</table>\n",
       "</div>"
      ],
      "text/plain": [
       "                                                       Title  \\\n",
       "Date                                                           \n",
       "1997-05-09   Drug cocktail to wipe out HIV will take 3 years   \n",
       "1997-06-22          Book on healthy living for HIV positives   \n",
       "1997-08-04   Testing HIV-positive is not the end of the road   \n",
       "1997-11-30                     HIV positive student deported   \n",
       "1997-11-22  World Vignettes -- \"Weapon\" to counter HIV virus   \n",
       "\n",
       "                                                      article  \n",
       "Date                                                           \n",
       "1997-05-09   , LONDON, May 8: Drugs meant to wipe out the ...  \n",
       "1997-06-22   , CHENNAI, June 20: The Tamil Nadu State AIDS...  \n",
       "1997-08-04   , August 3: A skit on HIV-AIDS is in progress...  \n",
       "1997-11-30   , AURANGABAD, November 29: A girl student fro...  \n",
       "1997-11-22   , WASHINGTON: It may take a virus to kill a v...  "
      ]
     },
     "execution_count": 46,
     "metadata": {},
     "output_type": "execute_result"
    }
   ],
   "source": [
    "df.head()"
   ]
  },
  {
   "cell_type": "markdown",
   "metadata": {},
   "source": [
    "# The Hindu"
   ]
  },
  {
   "cell_type": "code",
   "execution_count": 45,
   "metadata": {},
   "outputs": [
    {
     "data": {
      "text/html": [
       "<div>\n",
       "<style>\n",
       "    .dataframe thead tr:only-child th {\n",
       "        text-align: right;\n",
       "    }\n",
       "\n",
       "    .dataframe thead th {\n",
       "        text-align: left;\n",
       "    }\n",
       "\n",
       "    .dataframe tbody tr th {\n",
       "        vertical-align: top;\n",
       "    }\n",
       "</style>\n",
       "<table border=\"1\" class=\"dataframe\">\n",
       "  <thead>\n",
       "    <tr style=\"text-align: right;\">\n",
       "      <th></th>\n",
       "      <th>Article</th>\n",
       "      <th>Date</th>\n",
       "      <th>Title</th>\n",
       "    </tr>\n",
       "  </thead>\n",
       "  <tbody>\n",
       "    <tr>\n",
       "      <th>0</th>\n",
       "      <td>\\r\\n,\\r\\n,\\r\\n,\\r\\nTHE  HIV epidemic is alive ...</td>\n",
       "      <td>Tuesday, February 01, 2000</td>\n",
       "      <td>\\r\\nPutting HIV in the spotlight\\r\\n</td>\n",
       "    </tr>\n",
       "    <tr>\n",
       "      <th>1</th>\n",
       "      <td>\\r\\n,\\r\\n,\\r\\n,\\r\\nA YEAR ago, researchers at ...</td>\n",
       "      <td>Thursday, February 17, 2000</td>\n",
       "      <td>\\r\\nNew insight into HIV transmission \\r\\n</td>\n",
       "    </tr>\n",
       "    <tr>\n",
       "      <th>2</th>\n",
       "      <td>\\r\\n,\\r\\n,\\r\\n,\\r\\n,\\r\\nAN  IMPORTANT mileston...</td>\n",
       "      <td>Thursday, February 17, 2000</td>\n",
       "      <td>\\r\\nNew 'drug' taking method to prevent HIV tr...</td>\n",
       "    </tr>\n",
       "    <tr>\n",
       "      <th>3</th>\n",
       "      <td>\\r\\n,\\r\\n,\\r\\n,\\r\\nA STUDY conducted in cell c...</td>\n",
       "      <td>Thursday, March 02, 2000</td>\n",
       "      <td>\\r\\nGene therapy halts HIV replication \\r\\n</td>\n",
       "    </tr>\n",
       "    <tr>\n",
       "      <th>4</th>\n",
       "      <td>\\r\\n,\\r\\n,\\r\\n,\\r\\nKURUKSHETRA, MARCH 5. A wro...</td>\n",
       "      <td>Monday, March 06, 2000</td>\n",
       "      <td>\\r\\nWrong HIV result costs him a job\\r\\n</td>\n",
       "    </tr>\n",
       "  </tbody>\n",
       "</table>\n",
       "</div>"
      ],
      "text/plain": [
       "                                             Article  \\\n",
       "0  \\r\\n,\\r\\n,\\r\\n,\\r\\nTHE  HIV epidemic is alive ...   \n",
       "1  \\r\\n,\\r\\n,\\r\\n,\\r\\nA YEAR ago, researchers at ...   \n",
       "2  \\r\\n,\\r\\n,\\r\\n,\\r\\n,\\r\\nAN  IMPORTANT mileston...   \n",
       "3  \\r\\n,\\r\\n,\\r\\n,\\r\\nA STUDY conducted in cell c...   \n",
       "4  \\r\\n,\\r\\n,\\r\\n,\\r\\nKURUKSHETRA, MARCH 5. A wro...   \n",
       "\n",
       "                          Date  \\\n",
       "0   Tuesday, February 01, 2000   \n",
       "1  Thursday, February 17, 2000   \n",
       "2  Thursday, February 17, 2000   \n",
       "3     Thursday, March 02, 2000   \n",
       "4       Monday, March 06, 2000   \n",
       "\n",
       "                                               Title  \n",
       "0               \\r\\nPutting HIV in the spotlight\\r\\n  \n",
       "1         \\r\\nNew insight into HIV transmission \\r\\n  \n",
       "2  \\r\\nNew 'drug' taking method to prevent HIV tr...  \n",
       "3        \\r\\nGene therapy halts HIV replication \\r\\n  \n",
       "4           \\r\\nWrong HIV result costs him a job\\r\\n  "
      ]
     },
     "execution_count": 45,
     "metadata": {},
     "output_type": "execute_result"
    }
   ],
   "source": [
    "df = pd.read_csv('data/HIV_TH.csv')\n",
    "del df['url']\n",
    "df.head()"
   ]
  },
  {
   "cell_type": "code",
   "execution_count": 46,
   "metadata": {},
   "outputs": [
    {
     "data": {
      "text/plain": [
       "(2355, 3)"
      ]
     },
     "execution_count": 46,
     "metadata": {},
     "output_type": "execute_result"
    }
   ],
   "source": [
    "df.shape"
   ]
  },
  {
   "cell_type": "code",
   "execution_count": 47,
   "metadata": {
    "collapsed": true
   },
   "outputs": [],
   "source": [
    "df.dropna(how='any', axis=0, inplace=True)\n",
    "df.reset_index(drop=True, inplace=True)"
   ]
  },
  {
   "cell_type": "code",
   "execution_count": 48,
   "metadata": {},
   "outputs": [
    {
     "data": {
      "text/plain": [
       "(2354, 3)"
      ]
     },
     "execution_count": 48,
     "metadata": {},
     "output_type": "execute_result"
    }
   ],
   "source": [
    "df.shape"
   ]
  },
  {
   "cell_type": "code",
   "execution_count": 49,
   "metadata": {
    "collapsed": true
   },
   "outputs": [],
   "source": [
    "df['Date'] = df['Date'].apply(lambda x: re.findall(r'[a-zA-Z]{3,9}\\s[0-9]{1,2}(?:,)*(?:\\s)*[0-9]{4}', x))"
   ]
  },
  {
   "cell_type": "code",
   "execution_count": 50,
   "metadata": {},
   "outputs": [
    {
     "data": {
      "text/html": [
       "<div>\n",
       "<style>\n",
       "    .dataframe thead tr:only-child th {\n",
       "        text-align: right;\n",
       "    }\n",
       "\n",
       "    .dataframe thead th {\n",
       "        text-align: left;\n",
       "    }\n",
       "\n",
       "    .dataframe tbody tr th {\n",
       "        vertical-align: top;\n",
       "    }\n",
       "</style>\n",
       "<table border=\"1\" class=\"dataframe\">\n",
       "  <thead>\n",
       "    <tr style=\"text-align: right;\">\n",
       "      <th></th>\n",
       "      <th>Article</th>\n",
       "      <th>Date</th>\n",
       "      <th>Title</th>\n",
       "    </tr>\n",
       "  </thead>\n",
       "  <tbody>\n",
       "    <tr>\n",
       "      <th>0</th>\n",
       "      <td>\\r\\n,\\r\\n,\\r\\n,\\r\\nTHE  HIV epidemic is alive ...</td>\n",
       "      <td>[February 01, 2000]</td>\n",
       "      <td>\\r\\nPutting HIV in the spotlight\\r\\n</td>\n",
       "    </tr>\n",
       "    <tr>\n",
       "      <th>1</th>\n",
       "      <td>\\r\\n,\\r\\n,\\r\\n,\\r\\nA YEAR ago, researchers at ...</td>\n",
       "      <td>[February 17, 2000]</td>\n",
       "      <td>\\r\\nNew insight into HIV transmission \\r\\n</td>\n",
       "    </tr>\n",
       "    <tr>\n",
       "      <th>2</th>\n",
       "      <td>\\r\\n,\\r\\n,\\r\\n,\\r\\n,\\r\\nAN  IMPORTANT mileston...</td>\n",
       "      <td>[February 17, 2000]</td>\n",
       "      <td>\\r\\nNew 'drug' taking method to prevent HIV tr...</td>\n",
       "    </tr>\n",
       "    <tr>\n",
       "      <th>3</th>\n",
       "      <td>\\r\\n,\\r\\n,\\r\\n,\\r\\nA STUDY conducted in cell c...</td>\n",
       "      <td>[March 02, 2000]</td>\n",
       "      <td>\\r\\nGene therapy halts HIV replication \\r\\n</td>\n",
       "    </tr>\n",
       "    <tr>\n",
       "      <th>4</th>\n",
       "      <td>\\r\\n,\\r\\n,\\r\\n,\\r\\nKURUKSHETRA, MARCH 5. A wro...</td>\n",
       "      <td>[March 06, 2000]</td>\n",
       "      <td>\\r\\nWrong HIV result costs him a job\\r\\n</td>\n",
       "    </tr>\n",
       "  </tbody>\n",
       "</table>\n",
       "</div>"
      ],
      "text/plain": [
       "                                             Article                 Date  \\\n",
       "0  \\r\\n,\\r\\n,\\r\\n,\\r\\nTHE  HIV epidemic is alive ...  [February 01, 2000]   \n",
       "1  \\r\\n,\\r\\n,\\r\\n,\\r\\nA YEAR ago, researchers at ...  [February 17, 2000]   \n",
       "2  \\r\\n,\\r\\n,\\r\\n,\\r\\n,\\r\\nAN  IMPORTANT mileston...  [February 17, 2000]   \n",
       "3  \\r\\n,\\r\\n,\\r\\n,\\r\\nA STUDY conducted in cell c...     [March 02, 2000]   \n",
       "4  \\r\\n,\\r\\n,\\r\\n,\\r\\nKURUKSHETRA, MARCH 5. A wro...     [March 06, 2000]   \n",
       "\n",
       "                                               Title  \n",
       "0               \\r\\nPutting HIV in the spotlight\\r\\n  \n",
       "1         \\r\\nNew insight into HIV transmission \\r\\n  \n",
       "2  \\r\\nNew 'drug' taking method to prevent HIV tr...  \n",
       "3        \\r\\nGene therapy halts HIV replication \\r\\n  \n",
       "4           \\r\\nWrong HIV result costs him a job\\r\\n  "
      ]
     },
     "execution_count": 50,
     "metadata": {},
     "output_type": "execute_result"
    }
   ],
   "source": [
    "df.head()"
   ]
  },
  {
   "cell_type": "code",
   "execution_count": 51,
   "metadata": {},
   "outputs": [
    {
     "data": {
      "text/html": [
       "<div>\n",
       "<style>\n",
       "    .dataframe thead tr:only-child th {\n",
       "        text-align: right;\n",
       "    }\n",
       "\n",
       "    .dataframe thead th {\n",
       "        text-align: left;\n",
       "    }\n",
       "\n",
       "    .dataframe tbody tr th {\n",
       "        vertical-align: top;\n",
       "    }\n",
       "</style>\n",
       "<table border=\"1\" class=\"dataframe\">\n",
       "  <thead>\n",
       "    <tr style=\"text-align: right;\">\n",
       "      <th></th>\n",
       "      <th>Article</th>\n",
       "      <th>Date</th>\n",
       "      <th>Title</th>\n",
       "    </tr>\n",
       "  </thead>\n",
       "  <tbody>\n",
       "    <tr>\n",
       "      <th>0</th>\n",
       "      <td>\\r\\n,\\r\\n,\\r\\n,\\r\\nTHE  HIV epidemic is alive ...</td>\n",
       "      <td>February 01, 2000</td>\n",
       "      <td>\\r\\nPutting HIV in the spotlight\\r\\n</td>\n",
       "    </tr>\n",
       "    <tr>\n",
       "      <th>1</th>\n",
       "      <td>\\r\\n,\\r\\n,\\r\\n,\\r\\nA YEAR ago, researchers at ...</td>\n",
       "      <td>February 17, 2000</td>\n",
       "      <td>\\r\\nNew insight into HIV transmission \\r\\n</td>\n",
       "    </tr>\n",
       "    <tr>\n",
       "      <th>2</th>\n",
       "      <td>\\r\\n,\\r\\n,\\r\\n,\\r\\n,\\r\\nAN  IMPORTANT mileston...</td>\n",
       "      <td>February 17, 2000</td>\n",
       "      <td>\\r\\nNew 'drug' taking method to prevent HIV tr...</td>\n",
       "    </tr>\n",
       "    <tr>\n",
       "      <th>3</th>\n",
       "      <td>\\r\\n,\\r\\n,\\r\\n,\\r\\nA STUDY conducted in cell c...</td>\n",
       "      <td>March 02, 2000</td>\n",
       "      <td>\\r\\nGene therapy halts HIV replication \\r\\n</td>\n",
       "    </tr>\n",
       "    <tr>\n",
       "      <th>4</th>\n",
       "      <td>\\r\\n,\\r\\n,\\r\\n,\\r\\nKURUKSHETRA, MARCH 5. A wro...</td>\n",
       "      <td>March 06, 2000</td>\n",
       "      <td>\\r\\nWrong HIV result costs him a job\\r\\n</td>\n",
       "    </tr>\n",
       "  </tbody>\n",
       "</table>\n",
       "</div>"
      ],
      "text/plain": [
       "                                             Article               Date  \\\n",
       "0  \\r\\n,\\r\\n,\\r\\n,\\r\\nTHE  HIV epidemic is alive ...  February 01, 2000   \n",
       "1  \\r\\n,\\r\\n,\\r\\n,\\r\\nA YEAR ago, researchers at ...  February 17, 2000   \n",
       "2  \\r\\n,\\r\\n,\\r\\n,\\r\\n,\\r\\nAN  IMPORTANT mileston...  February 17, 2000   \n",
       "3  \\r\\n,\\r\\n,\\r\\n,\\r\\nA STUDY conducted in cell c...     March 02, 2000   \n",
       "4  \\r\\n,\\r\\n,\\r\\n,\\r\\nKURUKSHETRA, MARCH 5. A wro...     March 06, 2000   \n",
       "\n",
       "                                               Title  \n",
       "0               \\r\\nPutting HIV in the spotlight\\r\\n  \n",
       "1         \\r\\nNew insight into HIV transmission \\r\\n  \n",
       "2  \\r\\nNew 'drug' taking method to prevent HIV tr...  \n",
       "3        \\r\\nGene therapy halts HIV replication \\r\\n  \n",
       "4           \\r\\nWrong HIV result costs him a job\\r\\n  "
      ]
     },
     "execution_count": 51,
     "metadata": {},
     "output_type": "execute_result"
    }
   ],
   "source": [
    "df['Date'] = df.Date.apply(''.join)\n",
    "df.head()"
   ]
  },
  {
   "cell_type": "code",
   "execution_count": 52,
   "metadata": {
    "collapsed": true
   },
   "outputs": [],
   "source": [
    "df['Date'] = df['Date'].str.replace(',', '').astype('str')"
   ]
  },
  {
   "cell_type": "code",
   "execution_count": 53,
   "metadata": {},
   "outputs": [
    {
     "data": {
      "text/html": [
       "<div>\n",
       "<style>\n",
       "    .dataframe thead tr:only-child th {\n",
       "        text-align: right;\n",
       "    }\n",
       "\n",
       "    .dataframe thead th {\n",
       "        text-align: left;\n",
       "    }\n",
       "\n",
       "    .dataframe tbody tr th {\n",
       "        vertical-align: top;\n",
       "    }\n",
       "</style>\n",
       "<table border=\"1\" class=\"dataframe\">\n",
       "  <thead>\n",
       "    <tr style=\"text-align: right;\">\n",
       "      <th></th>\n",
       "      <th>Article</th>\n",
       "      <th>Date</th>\n",
       "      <th>Title</th>\n",
       "    </tr>\n",
       "  </thead>\n",
       "  <tbody>\n",
       "    <tr>\n",
       "      <th>0</th>\n",
       "      <td>\\r\\n,\\r\\n,\\r\\n,\\r\\nTHE  HIV epidemic is alive ...</td>\n",
       "      <td>February 01 2000</td>\n",
       "      <td>\\r\\nPutting HIV in the spotlight\\r\\n</td>\n",
       "    </tr>\n",
       "    <tr>\n",
       "      <th>1</th>\n",
       "      <td>\\r\\n,\\r\\n,\\r\\n,\\r\\nA YEAR ago, researchers at ...</td>\n",
       "      <td>February 17 2000</td>\n",
       "      <td>\\r\\nNew insight into HIV transmission \\r\\n</td>\n",
       "    </tr>\n",
       "    <tr>\n",
       "      <th>2</th>\n",
       "      <td>\\r\\n,\\r\\n,\\r\\n,\\r\\n,\\r\\nAN  IMPORTANT mileston...</td>\n",
       "      <td>February 17 2000</td>\n",
       "      <td>\\r\\nNew 'drug' taking method to prevent HIV tr...</td>\n",
       "    </tr>\n",
       "    <tr>\n",
       "      <th>3</th>\n",
       "      <td>\\r\\n,\\r\\n,\\r\\n,\\r\\nA STUDY conducted in cell c...</td>\n",
       "      <td>March 02 2000</td>\n",
       "      <td>\\r\\nGene therapy halts HIV replication \\r\\n</td>\n",
       "    </tr>\n",
       "    <tr>\n",
       "      <th>4</th>\n",
       "      <td>\\r\\n,\\r\\n,\\r\\n,\\r\\nKURUKSHETRA, MARCH 5. A wro...</td>\n",
       "      <td>March 06 2000</td>\n",
       "      <td>\\r\\nWrong HIV result costs him a job\\r\\n</td>\n",
       "    </tr>\n",
       "  </tbody>\n",
       "</table>\n",
       "</div>"
      ],
      "text/plain": [
       "                                             Article              Date  \\\n",
       "0  \\r\\n,\\r\\n,\\r\\n,\\r\\nTHE  HIV epidemic is alive ...  February 01 2000   \n",
       "1  \\r\\n,\\r\\n,\\r\\n,\\r\\nA YEAR ago, researchers at ...  February 17 2000   \n",
       "2  \\r\\n,\\r\\n,\\r\\n,\\r\\n,\\r\\nAN  IMPORTANT mileston...  February 17 2000   \n",
       "3  \\r\\n,\\r\\n,\\r\\n,\\r\\nA STUDY conducted in cell c...     March 02 2000   \n",
       "4  \\r\\n,\\r\\n,\\r\\n,\\r\\nKURUKSHETRA, MARCH 5. A wro...     March 06 2000   \n",
       "\n",
       "                                               Title  \n",
       "0               \\r\\nPutting HIV in the spotlight\\r\\n  \n",
       "1         \\r\\nNew insight into HIV transmission \\r\\n  \n",
       "2  \\r\\nNew 'drug' taking method to prevent HIV tr...  \n",
       "3        \\r\\nGene therapy halts HIV replication \\r\\n  \n",
       "4           \\r\\nWrong HIV result costs him a job\\r\\n  "
      ]
     },
     "execution_count": 53,
     "metadata": {},
     "output_type": "execute_result"
    }
   ],
   "source": [
    "df.head()"
   ]
  },
  {
   "cell_type": "code",
   "execution_count": 54,
   "metadata": {},
   "outputs": [
    {
     "data": {
      "text/html": [
       "<div>\n",
       "<style>\n",
       "    .dataframe thead tr:only-child th {\n",
       "        text-align: right;\n",
       "    }\n",
       "\n",
       "    .dataframe thead th {\n",
       "        text-align: left;\n",
       "    }\n",
       "\n",
       "    .dataframe tbody tr th {\n",
       "        vertical-align: top;\n",
       "    }\n",
       "</style>\n",
       "<table border=\"1\" class=\"dataframe\">\n",
       "  <thead>\n",
       "    <tr style=\"text-align: right;\">\n",
       "      <th></th>\n",
       "      <th>Article</th>\n",
       "      <th>Date</th>\n",
       "      <th>Title</th>\n",
       "    </tr>\n",
       "  </thead>\n",
       "  <tbody>\n",
       "  </tbody>\n",
       "</table>\n",
       "</div>"
      ],
      "text/plain": [
       "Empty DataFrame\n",
       "Columns: [Article, Date, Title]\n",
       "Index: []"
      ]
     },
     "execution_count": 54,
     "metadata": {},
     "output_type": "execute_result"
    }
   ],
   "source": [
    "df[df['Date'] == 'ary 01 2000']"
   ]
  },
  {
   "cell_type": "code",
   "execution_count": 39,
   "metadata": {},
   "outputs": [],
   "source": [
    "df['Date'] = df['Date'].apply(lambda x: datetime.strptime(x, '%B %d %Y') if len(x) > 11 else datetime.strptime(x, '%b %d %Y'))"
   ]
  },
  {
   "cell_type": "code",
   "execution_count": 25,
   "metadata": {},
   "outputs": [
    {
     "data": {
      "text/html": [
       "<div>\n",
       "<style>\n",
       "    .dataframe thead tr:only-child th {\n",
       "        text-align: right;\n",
       "    }\n",
       "\n",
       "    .dataframe thead th {\n",
       "        text-align: left;\n",
       "    }\n",
       "\n",
       "    .dataframe tbody tr th {\n",
       "        vertical-align: top;\n",
       "    }\n",
       "</style>\n",
       "<table border=\"1\" class=\"dataframe\">\n",
       "  <thead>\n",
       "    <tr style=\"text-align: right;\">\n",
       "      <th></th>\n",
       "      <th>Article</th>\n",
       "      <th>Date</th>\n",
       "      <th>Title</th>\n",
       "    </tr>\n",
       "  </thead>\n",
       "  <tbody>\n",
       "    <tr>\n",
       "      <th>0</th>\n",
       "      <td>\\r\\n,\\r\\n,\\r\\n,\\r\\nTHE  HIV epidemic is alive ...</td>\n",
       "      <td>2000-02-01</td>\n",
       "      <td>\\r\\nPutting HIV in the spotlight\\r\\n</td>\n",
       "    </tr>\n",
       "    <tr>\n",
       "      <th>1</th>\n",
       "      <td>\\r\\n,\\r\\n,\\r\\n,\\r\\nA YEAR ago, researchers at ...</td>\n",
       "      <td>2000-02-17</td>\n",
       "      <td>\\r\\nNew insight into HIV transmission \\r\\n</td>\n",
       "    </tr>\n",
       "    <tr>\n",
       "      <th>2</th>\n",
       "      <td>\\r\\n,\\r\\n,\\r\\n,\\r\\n,\\r\\nAN  IMPORTANT mileston...</td>\n",
       "      <td>2000-02-17</td>\n",
       "      <td>\\r\\nNew 'drug' taking method to prevent HIV tr...</td>\n",
       "    </tr>\n",
       "    <tr>\n",
       "      <th>3</th>\n",
       "      <td>\\r\\n,\\r\\n,\\r\\n,\\r\\nA STUDY conducted in cell c...</td>\n",
       "      <td>2000-03-02</td>\n",
       "      <td>\\r\\nGene therapy halts HIV replication \\r\\n</td>\n",
       "    </tr>\n",
       "    <tr>\n",
       "      <th>4</th>\n",
       "      <td>\\r\\n,\\r\\n,\\r\\n,\\r\\nKURUKSHETRA, MARCH 5. A wro...</td>\n",
       "      <td>2000-03-06</td>\n",
       "      <td>\\r\\nWrong HIV result costs him a job\\r\\n</td>\n",
       "    </tr>\n",
       "  </tbody>\n",
       "</table>\n",
       "</div>"
      ],
      "text/plain": [
       "                                             Article       Date  \\\n",
       "0  \\r\\n,\\r\\n,\\r\\n,\\r\\nTHE  HIV epidemic is alive ... 2000-02-01   \n",
       "1  \\r\\n,\\r\\n,\\r\\n,\\r\\nA YEAR ago, researchers at ... 2000-02-17   \n",
       "2  \\r\\n,\\r\\n,\\r\\n,\\r\\n,\\r\\nAN  IMPORTANT mileston... 2000-02-17   \n",
       "3  \\r\\n,\\r\\n,\\r\\n,\\r\\nA STUDY conducted in cell c... 2000-03-02   \n",
       "4  \\r\\n,\\r\\n,\\r\\n,\\r\\nKURUKSHETRA, MARCH 5. A wro... 2000-03-06   \n",
       "\n",
       "                                               Title  \n",
       "0               \\r\\nPutting HIV in the spotlight\\r\\n  \n",
       "1         \\r\\nNew insight into HIV transmission \\r\\n  \n",
       "2  \\r\\nNew 'drug' taking method to prevent HIV tr...  \n",
       "3        \\r\\nGene therapy halts HIV replication \\r\\n  \n",
       "4           \\r\\nWrong HIV result costs him a job\\r\\n  "
      ]
     },
     "execution_count": 25,
     "metadata": {},
     "output_type": "execute_result"
    }
   ],
   "source": [
    "df.head()"
   ]
  },
  {
   "cell_type": "code",
   "execution_count": 26,
   "metadata": {
    "collapsed": true
   },
   "outputs": [],
   "source": [
    "df['Date'] = pd.to_datetime(df['Date'])"
   ]
  },
  {
   "cell_type": "code",
   "execution_count": 27,
   "metadata": {},
   "outputs": [
    {
     "data": {
      "text/html": [
       "<div>\n",
       "<style>\n",
       "    .dataframe thead tr:only-child th {\n",
       "        text-align: right;\n",
       "    }\n",
       "\n",
       "    .dataframe thead th {\n",
       "        text-align: left;\n",
       "    }\n",
       "\n",
       "    .dataframe tbody tr th {\n",
       "        vertical-align: top;\n",
       "    }\n",
       "</style>\n",
       "<table border=\"1\" class=\"dataframe\">\n",
       "  <thead>\n",
       "    <tr style=\"text-align: right;\">\n",
       "      <th></th>\n",
       "      <th>Article</th>\n",
       "      <th>Date</th>\n",
       "      <th>Title</th>\n",
       "    </tr>\n",
       "  </thead>\n",
       "  <tbody>\n",
       "    <tr>\n",
       "      <th>0</th>\n",
       "      <td>\\r\\n,\\r\\n,\\r\\n,\\r\\nTHE  HIV epidemic is alive ...</td>\n",
       "      <td>2000-02-01</td>\n",
       "      <td>\\r\\nPutting HIV in the spotlight\\r\\n</td>\n",
       "    </tr>\n",
       "    <tr>\n",
       "      <th>1</th>\n",
       "      <td>\\r\\n,\\r\\n,\\r\\n,\\r\\nA YEAR ago, researchers at ...</td>\n",
       "      <td>2000-02-17</td>\n",
       "      <td>\\r\\nNew insight into HIV transmission \\r\\n</td>\n",
       "    </tr>\n",
       "    <tr>\n",
       "      <th>2</th>\n",
       "      <td>\\r\\n,\\r\\n,\\r\\n,\\r\\n,\\r\\nAN  IMPORTANT mileston...</td>\n",
       "      <td>2000-02-17</td>\n",
       "      <td>\\r\\nNew 'drug' taking method to prevent HIV tr...</td>\n",
       "    </tr>\n",
       "    <tr>\n",
       "      <th>3</th>\n",
       "      <td>\\r\\n,\\r\\n,\\r\\n,\\r\\nA STUDY conducted in cell c...</td>\n",
       "      <td>2000-03-02</td>\n",
       "      <td>\\r\\nGene therapy halts HIV replication \\r\\n</td>\n",
       "    </tr>\n",
       "    <tr>\n",
       "      <th>4</th>\n",
       "      <td>\\r\\n,\\r\\n,\\r\\n,\\r\\nKURUKSHETRA, MARCH 5. A wro...</td>\n",
       "      <td>2000-03-06</td>\n",
       "      <td>\\r\\nWrong HIV result costs him a job\\r\\n</td>\n",
       "    </tr>\n",
       "  </tbody>\n",
       "</table>\n",
       "</div>"
      ],
      "text/plain": [
       "                                             Article       Date  \\\n",
       "0  \\r\\n,\\r\\n,\\r\\n,\\r\\nTHE  HIV epidemic is alive ... 2000-02-01   \n",
       "1  \\r\\n,\\r\\n,\\r\\n,\\r\\nA YEAR ago, researchers at ... 2000-02-17   \n",
       "2  \\r\\n,\\r\\n,\\r\\n,\\r\\n,\\r\\nAN  IMPORTANT mileston... 2000-02-17   \n",
       "3  \\r\\n,\\r\\n,\\r\\n,\\r\\nA STUDY conducted in cell c... 2000-03-02   \n",
       "4  \\r\\n,\\r\\n,\\r\\n,\\r\\nKURUKSHETRA, MARCH 5. A wro... 2000-03-06   \n",
       "\n",
       "                                               Title  \n",
       "0               \\r\\nPutting HIV in the spotlight\\r\\n  \n",
       "1         \\r\\nNew insight into HIV transmission \\r\\n  \n",
       "2  \\r\\nNew 'drug' taking method to prevent HIV tr...  \n",
       "3        \\r\\nGene therapy halts HIV replication \\r\\n  \n",
       "4           \\r\\nWrong HIV result costs him a job\\r\\n  "
      ]
     },
     "execution_count": 27,
     "metadata": {},
     "output_type": "execute_result"
    }
   ],
   "source": [
    "df.head()"
   ]
  },
  {
   "cell_type": "code",
   "execution_count": 28,
   "metadata": {
    "collapsed": true
   },
   "outputs": [],
   "source": [
    "df = df.reset_index(drop=True).set_index('Date')"
   ]
  },
  {
   "cell_type": "code",
   "execution_count": 29,
   "metadata": {},
   "outputs": [
    {
     "data": {
      "text/html": [
       "<div>\n",
       "<style>\n",
       "    .dataframe thead tr:only-child th {\n",
       "        text-align: right;\n",
       "    }\n",
       "\n",
       "    .dataframe thead th {\n",
       "        text-align: left;\n",
       "    }\n",
       "\n",
       "    .dataframe tbody tr th {\n",
       "        vertical-align: top;\n",
       "    }\n",
       "</style>\n",
       "<table border=\"1\" class=\"dataframe\">\n",
       "  <thead>\n",
       "    <tr style=\"text-align: right;\">\n",
       "      <th></th>\n",
       "      <th>Article</th>\n",
       "      <th>Title</th>\n",
       "    </tr>\n",
       "    <tr>\n",
       "      <th>Date</th>\n",
       "      <th></th>\n",
       "      <th></th>\n",
       "    </tr>\n",
       "  </thead>\n",
       "  <tbody>\n",
       "    <tr>\n",
       "      <th>2000-02-01</th>\n",
       "      <td>\\r\\n,\\r\\n,\\r\\n,\\r\\nTHE  HIV epidemic is alive ...</td>\n",
       "      <td>\\r\\nPutting HIV in the spotlight\\r\\n</td>\n",
       "    </tr>\n",
       "    <tr>\n",
       "      <th>2000-02-17</th>\n",
       "      <td>\\r\\n,\\r\\n,\\r\\n,\\r\\nA YEAR ago, researchers at ...</td>\n",
       "      <td>\\r\\nNew insight into HIV transmission \\r\\n</td>\n",
       "    </tr>\n",
       "    <tr>\n",
       "      <th>2000-02-17</th>\n",
       "      <td>\\r\\n,\\r\\n,\\r\\n,\\r\\n,\\r\\nAN  IMPORTANT mileston...</td>\n",
       "      <td>\\r\\nNew 'drug' taking method to prevent HIV tr...</td>\n",
       "    </tr>\n",
       "    <tr>\n",
       "      <th>2000-03-02</th>\n",
       "      <td>\\r\\n,\\r\\n,\\r\\n,\\r\\nA STUDY conducted in cell c...</td>\n",
       "      <td>\\r\\nGene therapy halts HIV replication \\r\\n</td>\n",
       "    </tr>\n",
       "    <tr>\n",
       "      <th>2000-03-06</th>\n",
       "      <td>\\r\\n,\\r\\n,\\r\\n,\\r\\nKURUKSHETRA, MARCH 5. A wro...</td>\n",
       "      <td>\\r\\nWrong HIV result costs him a job\\r\\n</td>\n",
       "    </tr>\n",
       "  </tbody>\n",
       "</table>\n",
       "</div>"
      ],
      "text/plain": [
       "                                                      Article  \\\n",
       "Date                                                            \n",
       "2000-02-01  \\r\\n,\\r\\n,\\r\\n,\\r\\nTHE  HIV epidemic is alive ...   \n",
       "2000-02-17  \\r\\n,\\r\\n,\\r\\n,\\r\\nA YEAR ago, researchers at ...   \n",
       "2000-02-17  \\r\\n,\\r\\n,\\r\\n,\\r\\n,\\r\\nAN  IMPORTANT mileston...   \n",
       "2000-03-02  \\r\\n,\\r\\n,\\r\\n,\\r\\nA STUDY conducted in cell c...   \n",
       "2000-03-06  \\r\\n,\\r\\n,\\r\\n,\\r\\nKURUKSHETRA, MARCH 5. A wro...   \n",
       "\n",
       "                                                        Title  \n",
       "Date                                                           \n",
       "2000-02-01               \\r\\nPutting HIV in the spotlight\\r\\n  \n",
       "2000-02-17         \\r\\nNew insight into HIV transmission \\r\\n  \n",
       "2000-02-17  \\r\\nNew 'drug' taking method to prevent HIV tr...  \n",
       "2000-03-02        \\r\\nGene therapy halts HIV replication \\r\\n  \n",
       "2000-03-06           \\r\\nWrong HIV result costs him a job\\r\\n  "
      ]
     },
     "execution_count": 29,
     "metadata": {},
     "output_type": "execute_result"
    }
   ],
   "source": [
    "df.head()"
   ]
  },
  {
   "cell_type": "code",
   "execution_count": null,
   "metadata": {
    "collapsed": true
   },
   "outputs": [],
   "source": []
  }
 ],
 "metadata": {
  "kernelspec": {
   "display_name": "Python 3",
   "language": "python",
   "name": "python3"
  },
  "language_info": {
   "codemirror_mode": {
    "name": "ipython",
    "version": 3
   },
   "file_extension": ".py",
   "mimetype": "text/x-python",
   "name": "python",
   "nbconvert_exporter": "python",
   "pygments_lexer": "ipython3",
   "version": "3.6.3"
  }
 },
 "nbformat": 4,
 "nbformat_minor": 2
}
