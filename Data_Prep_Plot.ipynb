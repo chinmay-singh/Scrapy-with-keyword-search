{
 "cells": [
  {
   "cell_type": "code",
   "execution_count": 1,
   "metadata": {
    "collapsed": true
   },
   "outputs": [],
   "source": [
    "import pandas as pd\n",
    "import numpy as np\n",
    "import matplotlib.pyplot as plt\n",
    "import matplotlib.dates as mdates\n",
    "import re\n",
    "from datetime import datetime\n",
    "%matplotlib inline"
   ]
  },
  {
   "cell_type": "code",
   "execution_count": 2,
   "metadata": {},
   "outputs": [
    {
     "data": {
      "text/html": [
       "<div>\n",
       "<style>\n",
       "    .dataframe thead tr:only-child th {\n",
       "        text-align: right;\n",
       "    }\n",
       "\n",
       "    .dataframe thead th {\n",
       "        text-align: left;\n",
       "    }\n",
       "\n",
       "    .dataframe tbody tr th {\n",
       "        vertical-align: top;\n",
       "    }\n",
       "</style>\n",
       "<table border=\"1\" class=\"dataframe\">\n",
       "  <thead>\n",
       "    <tr style=\"text-align: right;\">\n",
       "      <th></th>\n",
       "      <th>Date</th>\n",
       "      <th>Title</th>\n",
       "      <th>article</th>\n",
       "    </tr>\n",
       "  </thead>\n",
       "  <tbody>\n",
       "    <tr>\n",
       "      <th>0</th>\n",
       "      <td>May 22, 2001, 12:40 IST</td>\n",
       "      <td>Chinese HIV+ family seek compensation</td>\n",
       "      <td>shanghai: a father and daughter infected with ...</td>\n",
       "    </tr>\n",
       "    <tr>\n",
       "      <th>1</th>\n",
       "      <td>May 28, 2001, 15:19 IST</td>\n",
       "      <td>NACO declares HIV, AIDS epidemics</td>\n",
       "      <td>patna: with the hiv infection affecting about ...</td>\n",
       "    </tr>\n",
       "    <tr>\n",
       "      <th>2</th>\n",
       "      <td>Aug 13, 2001, 23:36 IST</td>\n",
       "      <td>Levi's contributes to  HIV/AIDS awareness</td>\n",
       "      <td>bangalore: the levi strauss foundation on mond...</td>\n",
       "    </tr>\n",
       "    <tr>\n",
       "      <th>3</th>\n",
       "      <td>Aug 7, 2001, 23:19 IST</td>\n",
       "      <td>Mehta denies HIV blood given to Jamnagar boy</td>\n",
       "      <td>gandhinagar: state health minister suresh meht...</td>\n",
       "    </tr>\n",
       "    <tr>\n",
       "      <th>4</th>\n",
       "      <td>Seema Kamdar,Aug 15, 2001, 01:23 IST</td>\n",
       "      <td>Three-in-one drug for HIV receives mixed reaction</td>\n",
       "      <td>mumbai: the launch of a capsule, a combination...</td>\n",
       "    </tr>\n",
       "  </tbody>\n",
       "</table>\n",
       "</div>"
      ],
      "text/plain": [
       "                                   Date  \\\n",
       "0               May 22, 2001, 12:40 IST   \n",
       "1               May 28, 2001, 15:19 IST   \n",
       "2               Aug 13, 2001, 23:36 IST   \n",
       "3                Aug 7, 2001, 23:19 IST   \n",
       "4  Seema Kamdar,Aug 15, 2001, 01:23 IST   \n",
       "\n",
       "                                               Title  \\\n",
       "0              Chinese HIV+ family seek compensation   \n",
       "1                  NACO declares HIV, AIDS epidemics   \n",
       "2          Levi's contributes to  HIV/AIDS awareness   \n",
       "3       Mehta denies HIV blood given to Jamnagar boy   \n",
       "4  Three-in-one drug for HIV receives mixed reaction   \n",
       "\n",
       "                                             article  \n",
       "0  shanghai: a father and daughter infected with ...  \n",
       "1  patna: with the hiv infection affecting about ...  \n",
       "2  bangalore: the levi strauss foundation on mond...  \n",
       "3  gandhinagar: state health minister suresh meht...  \n",
       "4  mumbai: the launch of a capsule, a combination...  "
      ]
     },
     "execution_count": 2,
     "metadata": {},
     "output_type": "execute_result"
    }
   ],
   "source": [
    "df = pd.read_csv('HIV.csv')\n",
    "df.head()"
   ]
  },
  {
   "cell_type": "code",
   "execution_count": 3,
   "metadata": {
    "collapsed": true
   },
   "outputs": [],
   "source": [
    "df.dropna(how='any', axis=0, inplace=True)\n",
    "df.reset_index(drop=True, inplace=True)"
   ]
  },
  {
   "cell_type": "code",
   "execution_count": 4,
   "metadata": {
    "collapsed": true
   },
   "outputs": [],
   "source": [
    "df['Date'] = df['Date'].apply(lambda x: re.findall(r'[a-zA-Z]{3}\\s[0-9]{1,2},\\s[0-9]{4}', x))"
   ]
  },
  {
   "cell_type": "code",
   "execution_count": 5,
   "metadata": {},
   "outputs": [
    {
     "data": {
      "text/html": [
       "<div>\n",
       "<style>\n",
       "    .dataframe thead tr:only-child th {\n",
       "        text-align: right;\n",
       "    }\n",
       "\n",
       "    .dataframe thead th {\n",
       "        text-align: left;\n",
       "    }\n",
       "\n",
       "    .dataframe tbody tr th {\n",
       "        vertical-align: top;\n",
       "    }\n",
       "</style>\n",
       "<table border=\"1\" class=\"dataframe\">\n",
       "  <thead>\n",
       "    <tr style=\"text-align: right;\">\n",
       "      <th></th>\n",
       "      <th>Date</th>\n",
       "      <th>Title</th>\n",
       "      <th>article</th>\n",
       "    </tr>\n",
       "  </thead>\n",
       "  <tbody>\n",
       "    <tr>\n",
       "      <th>0</th>\n",
       "      <td>[May 22, 2001]</td>\n",
       "      <td>Chinese HIV+ family seek compensation</td>\n",
       "      <td>shanghai: a father and daughter infected with ...</td>\n",
       "    </tr>\n",
       "    <tr>\n",
       "      <th>1</th>\n",
       "      <td>[May 28, 2001]</td>\n",
       "      <td>NACO declares HIV, AIDS epidemics</td>\n",
       "      <td>patna: with the hiv infection affecting about ...</td>\n",
       "    </tr>\n",
       "    <tr>\n",
       "      <th>2</th>\n",
       "      <td>[Aug 13, 2001]</td>\n",
       "      <td>Levi's contributes to  HIV/AIDS awareness</td>\n",
       "      <td>bangalore: the levi strauss foundation on mond...</td>\n",
       "    </tr>\n",
       "    <tr>\n",
       "      <th>3</th>\n",
       "      <td>[Aug 7, 2001]</td>\n",
       "      <td>Mehta denies HIV blood given to Jamnagar boy</td>\n",
       "      <td>gandhinagar: state health minister suresh meht...</td>\n",
       "    </tr>\n",
       "    <tr>\n",
       "      <th>4</th>\n",
       "      <td>[Aug 15, 2001]</td>\n",
       "      <td>Three-in-one drug for HIV receives mixed reaction</td>\n",
       "      <td>mumbai: the launch of a capsule, a combination...</td>\n",
       "    </tr>\n",
       "  </tbody>\n",
       "</table>\n",
       "</div>"
      ],
      "text/plain": [
       "             Date                                              Title  \\\n",
       "0  [May 22, 2001]              Chinese HIV+ family seek compensation   \n",
       "1  [May 28, 2001]                  NACO declares HIV, AIDS epidemics   \n",
       "2  [Aug 13, 2001]          Levi's contributes to  HIV/AIDS awareness   \n",
       "3   [Aug 7, 2001]       Mehta denies HIV blood given to Jamnagar boy   \n",
       "4  [Aug 15, 2001]  Three-in-one drug for HIV receives mixed reaction   \n",
       "\n",
       "                                             article  \n",
       "0  shanghai: a father and daughter infected with ...  \n",
       "1  patna: with the hiv infection affecting about ...  \n",
       "2  bangalore: the levi strauss foundation on mond...  \n",
       "3  gandhinagar: state health minister suresh meht...  \n",
       "4  mumbai: the launch of a capsule, a combination...  "
      ]
     },
     "execution_count": 5,
     "metadata": {},
     "output_type": "execute_result"
    }
   ],
   "source": [
    "df.head()"
   ]
  },
  {
   "cell_type": "code",
   "execution_count": 6,
   "metadata": {},
   "outputs": [
    {
     "data": {
      "text/plain": [
       "list"
      ]
     },
     "execution_count": 6,
     "metadata": {},
     "output_type": "execute_result"
    }
   ],
   "source": [
    "type(df['Date'][0])"
   ]
  },
  {
   "cell_type": "code",
   "execution_count": 7,
   "metadata": {},
   "outputs": [
    {
     "data": {
      "text/html": [
       "<div>\n",
       "<style>\n",
       "    .dataframe thead tr:only-child th {\n",
       "        text-align: right;\n",
       "    }\n",
       "\n",
       "    .dataframe thead th {\n",
       "        text-align: left;\n",
       "    }\n",
       "\n",
       "    .dataframe tbody tr th {\n",
       "        vertical-align: top;\n",
       "    }\n",
       "</style>\n",
       "<table border=\"1\" class=\"dataframe\">\n",
       "  <thead>\n",
       "    <tr style=\"text-align: right;\">\n",
       "      <th></th>\n",
       "      <th>Date</th>\n",
       "      <th>Title</th>\n",
       "      <th>article</th>\n",
       "    </tr>\n",
       "  </thead>\n",
       "  <tbody>\n",
       "    <tr>\n",
       "      <th>0</th>\n",
       "      <td>May 22, 2001</td>\n",
       "      <td>Chinese HIV+ family seek compensation</td>\n",
       "      <td>shanghai: a father and daughter infected with ...</td>\n",
       "    </tr>\n",
       "    <tr>\n",
       "      <th>1</th>\n",
       "      <td>May 28, 2001</td>\n",
       "      <td>NACO declares HIV, AIDS epidemics</td>\n",
       "      <td>patna: with the hiv infection affecting about ...</td>\n",
       "    </tr>\n",
       "    <tr>\n",
       "      <th>2</th>\n",
       "      <td>Aug 13, 2001</td>\n",
       "      <td>Levi's contributes to  HIV/AIDS awareness</td>\n",
       "      <td>bangalore: the levi strauss foundation on mond...</td>\n",
       "    </tr>\n",
       "    <tr>\n",
       "      <th>3</th>\n",
       "      <td>Aug 7, 2001</td>\n",
       "      <td>Mehta denies HIV blood given to Jamnagar boy</td>\n",
       "      <td>gandhinagar: state health minister suresh meht...</td>\n",
       "    </tr>\n",
       "    <tr>\n",
       "      <th>4</th>\n",
       "      <td>Aug 15, 2001</td>\n",
       "      <td>Three-in-one drug for HIV receives mixed reaction</td>\n",
       "      <td>mumbai: the launch of a capsule, a combination...</td>\n",
       "    </tr>\n",
       "  </tbody>\n",
       "</table>\n",
       "</div>"
      ],
      "text/plain": [
       "           Date                                              Title  \\\n",
       "0  May 22, 2001              Chinese HIV+ family seek compensation   \n",
       "1  May 28, 2001                  NACO declares HIV, AIDS epidemics   \n",
       "2  Aug 13, 2001          Levi's contributes to  HIV/AIDS awareness   \n",
       "3   Aug 7, 2001       Mehta denies HIV blood given to Jamnagar boy   \n",
       "4  Aug 15, 2001  Three-in-one drug for HIV receives mixed reaction   \n",
       "\n",
       "                                             article  \n",
       "0  shanghai: a father and daughter infected with ...  \n",
       "1  patna: with the hiv infection affecting about ...  \n",
       "2  bangalore: the levi strauss foundation on mond...  \n",
       "3  gandhinagar: state health minister suresh meht...  \n",
       "4  mumbai: the launch of a capsule, a combination...  "
      ]
     },
     "execution_count": 7,
     "metadata": {},
     "output_type": "execute_result"
    }
   ],
   "source": [
    "df['Date'] = df.Date.apply(', '.join)\n",
    "df.head()"
   ]
  },
  {
   "cell_type": "code",
   "execution_count": 8,
   "metadata": {},
   "outputs": [
    {
     "data": {
      "text/html": [
       "<div>\n",
       "<style>\n",
       "    .dataframe thead tr:only-child th {\n",
       "        text-align: right;\n",
       "    }\n",
       "\n",
       "    .dataframe thead th {\n",
       "        text-align: left;\n",
       "    }\n",
       "\n",
       "    .dataframe tbody tr th {\n",
       "        vertical-align: top;\n",
       "    }\n",
       "</style>\n",
       "<table border=\"1\" class=\"dataframe\">\n",
       "  <thead>\n",
       "    <tr style=\"text-align: right;\">\n",
       "      <th></th>\n",
       "      <th>Date</th>\n",
       "      <th>Title</th>\n",
       "      <th>article</th>\n",
       "    </tr>\n",
       "  </thead>\n",
       "  <tbody>\n",
       "    <tr>\n",
       "      <th>0</th>\n",
       "      <td>May 22 2001</td>\n",
       "      <td>Chinese HIV+ family seek compensation</td>\n",
       "      <td>shanghai: a father and daughter infected with ...</td>\n",
       "    </tr>\n",
       "    <tr>\n",
       "      <th>1</th>\n",
       "      <td>May 28 2001</td>\n",
       "      <td>NACO declares HIV, AIDS epidemics</td>\n",
       "      <td>patna: with the hiv infection affecting about ...</td>\n",
       "    </tr>\n",
       "    <tr>\n",
       "      <th>2</th>\n",
       "      <td>Aug 13 2001</td>\n",
       "      <td>Levi's contributes to  HIV/AIDS awareness</td>\n",
       "      <td>bangalore: the levi strauss foundation on mond...</td>\n",
       "    </tr>\n",
       "    <tr>\n",
       "      <th>3</th>\n",
       "      <td>Aug 7 2001</td>\n",
       "      <td>Mehta denies HIV blood given to Jamnagar boy</td>\n",
       "      <td>gandhinagar: state health minister suresh meht...</td>\n",
       "    </tr>\n",
       "    <tr>\n",
       "      <th>4</th>\n",
       "      <td>Aug 15 2001</td>\n",
       "      <td>Three-in-one drug for HIV receives mixed reaction</td>\n",
       "      <td>mumbai: the launch of a capsule, a combination...</td>\n",
       "    </tr>\n",
       "  </tbody>\n",
       "</table>\n",
       "</div>"
      ],
      "text/plain": [
       "          Date                                              Title  \\\n",
       "0  May 22 2001              Chinese HIV+ family seek compensation   \n",
       "1  May 28 2001                  NACO declares HIV, AIDS epidemics   \n",
       "2  Aug 13 2001          Levi's contributes to  HIV/AIDS awareness   \n",
       "3   Aug 7 2001       Mehta denies HIV blood given to Jamnagar boy   \n",
       "4  Aug 15 2001  Three-in-one drug for HIV receives mixed reaction   \n",
       "\n",
       "                                             article  \n",
       "0  shanghai: a father and daughter infected with ...  \n",
       "1  patna: with the hiv infection affecting about ...  \n",
       "2  bangalore: the levi strauss foundation on mond...  \n",
       "3  gandhinagar: state health minister suresh meht...  \n",
       "4  mumbai: the launch of a capsule, a combination...  "
      ]
     },
     "execution_count": 8,
     "metadata": {},
     "output_type": "execute_result"
    }
   ],
   "source": [
    "df['Date'] = df['Date'].str.replace(',','').astype('str')\n",
    "df.head()"
   ]
  },
  {
   "cell_type": "code",
   "execution_count": 9,
   "metadata": {},
   "outputs": [
    {
     "data": {
      "text/html": [
       "<div>\n",
       "<style>\n",
       "    .dataframe thead tr:only-child th {\n",
       "        text-align: right;\n",
       "    }\n",
       "\n",
       "    .dataframe thead th {\n",
       "        text-align: left;\n",
       "    }\n",
       "\n",
       "    .dataframe tbody tr th {\n",
       "        vertical-align: top;\n",
       "    }\n",
       "</style>\n",
       "<table border=\"1\" class=\"dataframe\">\n",
       "  <thead>\n",
       "    <tr style=\"text-align: right;\">\n",
       "      <th></th>\n",
       "      <th>Date</th>\n",
       "      <th>Title</th>\n",
       "      <th>article</th>\n",
       "    </tr>\n",
       "  </thead>\n",
       "  <tbody>\n",
       "    <tr>\n",
       "      <th>0</th>\n",
       "      <td>2001-05-22</td>\n",
       "      <td>Chinese HIV+ family seek compensation</td>\n",
       "      <td>shanghai: a father and daughter infected with ...</td>\n",
       "    </tr>\n",
       "    <tr>\n",
       "      <th>1</th>\n",
       "      <td>2001-05-28</td>\n",
       "      <td>NACO declares HIV, AIDS epidemics</td>\n",
       "      <td>patna: with the hiv infection affecting about ...</td>\n",
       "    </tr>\n",
       "    <tr>\n",
       "      <th>2</th>\n",
       "      <td>2001-08-13</td>\n",
       "      <td>Levi's contributes to  HIV/AIDS awareness</td>\n",
       "      <td>bangalore: the levi strauss foundation on mond...</td>\n",
       "    </tr>\n",
       "    <tr>\n",
       "      <th>3</th>\n",
       "      <td>2001-08-07</td>\n",
       "      <td>Mehta denies HIV blood given to Jamnagar boy</td>\n",
       "      <td>gandhinagar: state health minister suresh meht...</td>\n",
       "    </tr>\n",
       "    <tr>\n",
       "      <th>4</th>\n",
       "      <td>2001-08-15</td>\n",
       "      <td>Three-in-one drug for HIV receives mixed reaction</td>\n",
       "      <td>mumbai: the launch of a capsule, a combination...</td>\n",
       "    </tr>\n",
       "  </tbody>\n",
       "</table>\n",
       "</div>"
      ],
      "text/plain": [
       "        Date                                              Title  \\\n",
       "0 2001-05-22              Chinese HIV+ family seek compensation   \n",
       "1 2001-05-28                  NACO declares HIV, AIDS epidemics   \n",
       "2 2001-08-13          Levi's contributes to  HIV/AIDS awareness   \n",
       "3 2001-08-07       Mehta denies HIV blood given to Jamnagar boy   \n",
       "4 2001-08-15  Three-in-one drug for HIV receives mixed reaction   \n",
       "\n",
       "                                             article  \n",
       "0  shanghai: a father and daughter infected with ...  \n",
       "1  patna: with the hiv infection affecting about ...  \n",
       "2  bangalore: the levi strauss foundation on mond...  \n",
       "3  gandhinagar: state health minister suresh meht...  \n",
       "4  mumbai: the launch of a capsule, a combination...  "
      ]
     },
     "execution_count": 9,
     "metadata": {},
     "output_type": "execute_result"
    }
   ],
   "source": [
    "#df['Date'] = df['Date'].apply(lambda x: datetime.strptime(x, '%b %d %Y').strftime('%d/%m/%Y'))\n",
    "df['Date'] = df['Date'].apply(lambda x: datetime.strptime(x, '%b %d %Y'))\n",
    "df.head()"
   ]
  },
  {
   "cell_type": "code",
   "execution_count": 10,
   "metadata": {
    "collapsed": true
   },
   "outputs": [],
   "source": [
    "df['Date'] = pd.to_datetime(df['Date'])"
   ]
  },
  {
   "cell_type": "code",
   "execution_count": 11,
   "metadata": {
    "collapsed": true
   },
   "outputs": [],
   "source": [
    "df = df.reset_index(drop=True).set_index('Date')"
   ]
  },
  {
   "cell_type": "code",
   "execution_count": 12,
   "metadata": {},
   "outputs": [
    {
     "data": {
      "text/html": [
       "<div>\n",
       "<style>\n",
       "    .dataframe thead tr:only-child th {\n",
       "        text-align: right;\n",
       "    }\n",
       "\n",
       "    .dataframe thead th {\n",
       "        text-align: left;\n",
       "    }\n",
       "\n",
       "    .dataframe tbody tr th {\n",
       "        vertical-align: top;\n",
       "    }\n",
       "</style>\n",
       "<table border=\"1\" class=\"dataframe\">\n",
       "  <thead>\n",
       "    <tr style=\"text-align: right;\">\n",
       "      <th></th>\n",
       "      <th>Title</th>\n",
       "      <th>article</th>\n",
       "    </tr>\n",
       "    <tr>\n",
       "      <th>Date</th>\n",
       "      <th></th>\n",
       "      <th></th>\n",
       "    </tr>\n",
       "  </thead>\n",
       "  <tbody>\n",
       "    <tr>\n",
       "      <th>2001-05-22</th>\n",
       "      <td>Chinese HIV+ family seek compensation</td>\n",
       "      <td>shanghai: a father and daughter infected with ...</td>\n",
       "    </tr>\n",
       "    <tr>\n",
       "      <th>2001-05-28</th>\n",
       "      <td>NACO declares HIV, AIDS epidemics</td>\n",
       "      <td>patna: with the hiv infection affecting about ...</td>\n",
       "    </tr>\n",
       "    <tr>\n",
       "      <th>2001-08-13</th>\n",
       "      <td>Levi's contributes to  HIV/AIDS awareness</td>\n",
       "      <td>bangalore: the levi strauss foundation on mond...</td>\n",
       "    </tr>\n",
       "    <tr>\n",
       "      <th>2001-08-07</th>\n",
       "      <td>Mehta denies HIV blood given to Jamnagar boy</td>\n",
       "      <td>gandhinagar: state health minister suresh meht...</td>\n",
       "    </tr>\n",
       "    <tr>\n",
       "      <th>2001-08-15</th>\n",
       "      <td>Three-in-one drug for HIV receives mixed reaction</td>\n",
       "      <td>mumbai: the launch of a capsule, a combination...</td>\n",
       "    </tr>\n",
       "  </tbody>\n",
       "</table>\n",
       "</div>"
      ],
      "text/plain": [
       "                                                        Title  \\\n",
       "Date                                                            \n",
       "2001-05-22              Chinese HIV+ family seek compensation   \n",
       "2001-05-28                  NACO declares HIV, AIDS epidemics   \n",
       "2001-08-13          Levi's contributes to  HIV/AIDS awareness   \n",
       "2001-08-07       Mehta denies HIV blood given to Jamnagar boy   \n",
       "2001-08-15  Three-in-one drug for HIV receives mixed reaction   \n",
       "\n",
       "                                                      article  \n",
       "Date                                                           \n",
       "2001-05-22  shanghai: a father and daughter infected with ...  \n",
       "2001-05-28  patna: with the hiv infection affecting about ...  \n",
       "2001-08-13  bangalore: the levi strauss foundation on mond...  \n",
       "2001-08-07  gandhinagar: state health minister suresh meht...  \n",
       "2001-08-15  mumbai: the launch of a capsule, a combination...  "
      ]
     },
     "execution_count": 12,
     "metadata": {},
     "output_type": "execute_result"
    }
   ],
   "source": [
    "df.head()"
   ]
  },
  {
   "cell_type": "code",
   "execution_count": 13,
   "metadata": {},
   "outputs": [
    {
     "data": {
      "text/plain": [
       "pandas.core.indexes.datetimes.DatetimeIndex"
      ]
     },
     "execution_count": 13,
     "metadata": {},
     "output_type": "execute_result"
    }
   ],
   "source": [
    "type(df.index)"
   ]
  },
  {
   "cell_type": "code",
   "execution_count": 14,
   "metadata": {
    "collapsed": true
   },
   "outputs": [],
   "source": [
    "#df.groupby(df['Date'].dt.strftime('%B'))['Title'].count().sort_values()\n",
    "df.index = pd.to_datetime(df.index)"
   ]
  },
  {
   "cell_type": "code",
   "execution_count": 15,
   "metadata": {},
   "outputs": [
    {
     "data": {
      "text/html": [
       "<div>\n",
       "<style>\n",
       "    .dataframe thead tr:only-child th {\n",
       "        text-align: right;\n",
       "    }\n",
       "\n",
       "    .dataframe thead th {\n",
       "        text-align: left;\n",
       "    }\n",
       "\n",
       "    .dataframe tbody tr th {\n",
       "        vertical-align: top;\n",
       "    }\n",
       "</style>\n",
       "<table border=\"1\" class=\"dataframe\">\n",
       "  <thead>\n",
       "    <tr style=\"text-align: right;\">\n",
       "      <th></th>\n",
       "      <th>Title</th>\n",
       "      <th>article</th>\n",
       "    </tr>\n",
       "    <tr>\n",
       "      <th>Date</th>\n",
       "      <th></th>\n",
       "      <th></th>\n",
       "    </tr>\n",
       "  </thead>\n",
       "  <tbody>\n",
       "    <tr>\n",
       "      <th>2001-01-01</th>\n",
       "      <td>27</td>\n",
       "      <td>27</td>\n",
       "    </tr>\n",
       "    <tr>\n",
       "      <th>2002-01-01</th>\n",
       "      <td>82</td>\n",
       "      <td>82</td>\n",
       "    </tr>\n",
       "    <tr>\n",
       "      <th>2003-01-01</th>\n",
       "      <td>95</td>\n",
       "      <td>95</td>\n",
       "    </tr>\n",
       "    <tr>\n",
       "      <th>2004-01-01</th>\n",
       "      <td>59</td>\n",
       "      <td>59</td>\n",
       "    </tr>\n",
       "    <tr>\n",
       "      <th>2005-01-01</th>\n",
       "      <td>58</td>\n",
       "      <td>58</td>\n",
       "    </tr>\n",
       "  </tbody>\n",
       "</table>\n",
       "</div>"
      ],
      "text/plain": [
       "            Title  article\n",
       "Date                      \n",
       "2001-01-01     27       27\n",
       "2002-01-01     82       82\n",
       "2003-01-01     95       95\n",
       "2004-01-01     59       59\n",
       "2005-01-01     58       58"
      ]
     },
     "execution_count": 15,
     "metadata": {},
     "output_type": "execute_result"
    }
   ],
   "source": [
    "df1 = df.resample('AS').count()\n",
    "df1.head()"
   ]
  },
  {
   "cell_type": "code",
   "execution_count": 16,
   "metadata": {
    "scrolled": true
   },
   "outputs": [
    {
     "data": {
      "image/png": "[encoded data removed]",
      "text/plain": [
       "<matplotlib.figure.Figure at 0x7f91513ad400>"
      ]
     },
     "metadata": {},
     "output_type": "display_data"
    }
   ],
   "source": [
    "# Yearly Plot\n",
    "fig, ax = plt.subplots(figsize=(16, 8))\n",
    "plt.yticks(np.arange(df1['Title'].min(), df1['Title'].max()+20, 20))\n",
    "plt.xticks(df1.index)\n",
    "ax.xaxis.set_major_formatter(mdates.DateFormatter('%Y'))\n",
    "#plt.grid(True)\n",
    "ax.grid(color='black', zorder=0)\n",
    "ax.bar(df1.index, df1['Title'], width = 100, zorder=3)\n",
    "plt.xlabel('Year', fontsize=12)\n",
    "plt.ylabel('Number of articles', fontsize=12)\n",
    "plt.show()"
   ]
  },
  {
   "cell_type": "code",
   "execution_count": 17,
   "metadata": {
    "collapsed": true
   },
   "outputs": [],
   "source": [
    "df = df.resample('M').count()"
   ]
  },
  {
   "cell_type": "code",
   "execution_count": 18,
   "metadata": {},
   "outputs": [
    {
     "data": {
      "text/html": [
       "<div>\n",
       "<style>\n",
       "    .dataframe thead tr:only-child th {\n",
       "        text-align: right;\n",
       "    }\n",
       "\n",
       "    .dataframe thead th {\n",
       "        text-align: left;\n",
       "    }\n",
       "\n",
       "    .dataframe tbody tr th {\n",
       "        vertical-align: top;\n",
       "    }\n",
       "</style>\n",
       "<table border=\"1\" class=\"dataframe\">\n",
       "  <thead>\n",
       "    <tr style=\"text-align: right;\">\n",
       "      <th></th>\n",
       "      <th>Title</th>\n",
       "      <th>article</th>\n",
       "    </tr>\n",
       "    <tr>\n",
       "      <th>Date</th>\n",
       "      <th></th>\n",
       "      <th></th>\n",
       "    </tr>\n",
       "  </thead>\n",
       "  <tbody>\n",
       "    <tr>\n",
       "      <th>2001-05-31</th>\n",
       "      <td>2</td>\n",
       "      <td>2</td>\n",
       "    </tr>\n",
       "    <tr>\n",
       "      <th>2001-06-30</th>\n",
       "      <td>0</td>\n",
       "      <td>0</td>\n",
       "    </tr>\n",
       "    <tr>\n",
       "      <th>2001-07-31</th>\n",
       "      <td>0</td>\n",
       "      <td>0</td>\n",
       "    </tr>\n",
       "    <tr>\n",
       "      <th>2001-08-31</th>\n",
       "      <td>6</td>\n",
       "      <td>6</td>\n",
       "    </tr>\n",
       "    <tr>\n",
       "      <th>2001-09-30</th>\n",
       "      <td>1</td>\n",
       "      <td>1</td>\n",
       "    </tr>\n",
       "  </tbody>\n",
       "</table>\n",
       "</div>"
      ],
      "text/plain": [
       "            Title  article\n",
       "Date                      \n",
       "2001-05-31      2        2\n",
       "2001-06-30      0        0\n",
       "2001-07-31      0        0\n",
       "2001-08-31      6        6\n",
       "2001-09-30      1        1"
      ]
     },
     "execution_count": 18,
     "metadata": {},
     "output_type": "execute_result"
    }
   ],
   "source": [
    "df.head()"
   ]
  },
  {
   "cell_type": "code",
   "execution_count": 19,
   "metadata": {},
   "outputs": [
    {
     "data": {
      "image/png": "[encoded data removed]",
      "text/plain": [
       "<matplotlib.figure.Figure at 0x7f91513ad9e8>"
      ]
     },
     "metadata": {},
     "output_type": "display_data"
    }
   ],
   "source": [
    "fig, ax = plt.subplots(figsize=(16,8))\n",
    "plt.yticks(np.arange(df['Title'].min(), df['Title'].max()+1, 2))\n",
    "df['Title'].plot(ax=ax,kind='bar')\n",
    "ax.xaxis.set_ticklabels(df.index)\n",
    "plt.setp(ax.get_xticklabels(), rotation=45, horizontalalignment='right')\n",
    "plt.show()"
   ]
  },
  {
   "cell_type": "code",
   "execution_count": 20,
   "metadata": {},
   "outputs": [
    {
     "data": {
      "image/png": "[encoded data removed]",
      "text/plain": [
       "<matplotlib.figure.Figure at 0x7f52c1eff2e8>"
      ]
     },
     "metadata": {},
     "output_type": "display_data"
    }
   ],
   "source": [
    "fig, ax = plt.subplots()\n",
    "fig.set_size_inches(18.5, 10.5)\n",
    "ax.bar(df1.index, df1['Title'])\n",
    "loc = matplotlib.dates.MonthLocator([6,7,8])\n",
    "fmt =  matplotlib.dates.DateFormatter(\"%Y\")\n",
    "ax.xaxis.set_major_locator(loc)\n",
    "ax.xaxis.set_major_formatter(fmt)\n",
    "fig.autofmt_xdate()\n",
    "plt.setp(ax.get_xticklabels(), rotation=30, horizontalalignment='right')\n",
    "# plt.setp(ax.get_xticklabels(), rotation=90)\n",
    "plt.show()"
   ]
  },
  {
   "cell_type": "code",
   "execution_count": null,
   "metadata": {
    "collapsed": true
   },
   "outputs": [],
   "source": []
  }
 ],
 "metadata": {
  "kernelspec": {
   "display_name": "Python 3",
   "language": "python",
   "name": "python3"
  },
  "language_info": {
   "codemirror_mode": {
    "name": "ipython",
    "version": 3
   },
   "file_extension": ".py",
   "mimetype": "text/x-python",
   "name": "python",
   "nbconvert_exporter": "python",
   "pygments_lexer": "ipython3",
   "version": "3.6.3"
  }
 },
 "nbformat": 4,
 "nbformat_minor": 2
}
